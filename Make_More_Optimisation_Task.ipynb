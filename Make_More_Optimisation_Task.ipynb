{
  "nbformat": 4,
  "nbformat_minor": 0,
  "metadata": {
    "colab": {
      "provenance": [],
      "authorship_tag": "ABX9TyNrzQJDAkibL1HXAVi+rZyI",
      "include_colab_link": true
    },
    "kernelspec": {
      "name": "python3",
      "display_name": "Python 3"
    },
    "language_info": {
      "name": "python"
    }
  },
  "cells": [
    {
      "cell_type": "markdown",
      "metadata": {
        "id": "view-in-github",
        "colab_type": "text"
      },
      "source": [
        "<a href=\"https://colab.research.google.com/github/slvrsrfrrr/Machine-Learning/blob/main/Make_More_Optimisation_Task.ipynb\" target=\"_parent\"><img src=\"https://colab.research.google.com/assets/colab-badge.svg\" alt=\"Open In Colab\"/></a>"
      ]
    },
    {
      "cell_type": "markdown",
      "source": [
        "# Model Optimisation\n",
        "\n",
        "---\n",
        "goal: to beat Andrej's loss of 2.17 by tweaking hyperparameters.\n",
        "\n"
      ],
      "metadata": {
        "id": "W_3mgF1AIqRS"
      }
    },
    {
      "cell_type": "markdown",
      "source": [
        "***results:***\n",
        "\n",
        "*   **training loss: 2.017**\n",
        "*   **validation loss: 2.088**\n",
        "\n",
        "\n",
        "---\n",
        "\n",
        "\n",
        "* batch size: 128\n",
        "* 300 neuron hidden layers\n",
        "* 10 dimensional embedding layer\n",
        "* 3 character context\n",
        "* xavier weight initialisation (tanh)\n",
        "\n"
      ],
      "metadata": {
        "id": "O5t6-vI9OLgB"
      }
    },
    {
      "cell_type": "code",
      "execution_count": null,
      "metadata": {
        "id": "BU2mAV8OIX6t"
      },
      "outputs": [],
      "source": [
        "from google.colab import drive\n",
        "drive.mount('/content/drive')\n",
        "\n",
        "!wget -O /content/drive/MyDrive/names.txt https://raw.githubusercontent.com/slvrsrfrrr/datasets/main/names.txt\n",
        "\n",
        "file_path = '/content/drive/MyDrive/names.txt'\n",
        "\n",
        "words = open(file_path,'r').read().splitlines()"
      ]
    },
    {
      "cell_type": "code",
      "source": [
        "import torch\n",
        "import matplotlib.pyplot as plt\n",
        "%matplotlib inline\n",
        "import torch.nn.functional as F"
      ],
      "metadata": {
        "id": "7FOjsTH0Ic4B"
      },
      "execution_count": 2,
      "outputs": []
    },
    {
      "cell_type": "markdown",
      "source": [
        "turning each letter into an integer and creating a function to retreive the letter again:"
      ],
      "metadata": {
        "id": "aL7V7VoyJGxF"
      }
    },
    {
      "cell_type": "code",
      "source": [
        "chars = sorted(list(set(''.join(words))))\n",
        "stoi = {s:i+1 for i,s in enumerate(chars)}\n",
        "stoi['.']=0\n",
        "itos = {i:s for s,i in stoi.items()}\n",
        "print(itos)"
      ],
      "metadata": {
        "colab": {
          "base_uri": "https://localhost:8080/"
        },
        "id": "Ja8V3DxnJEZy",
        "outputId": "4206d9e8-bae5-48f1-8cd2-c813385cfd74"
      },
      "execution_count": 3,
      "outputs": [
        {
          "output_type": "stream",
          "name": "stdout",
          "text": [
            "{1: 'a', 2: 'b', 3: 'c', 4: 'd', 5: 'e', 6: 'f', 7: 'g', 8: 'h', 9: 'i', 10: 'j', 11: 'k', 12: 'l', 13: 'm', 14: 'n', 15: 'o', 16: 'p', 17: 'q', 18: 'r', 19: 's', 20: 't', 21: 'u', 22: 'v', 23: 'w', 24: 'x', 25: 'y', 26: 'z', 0: '.'}\n"
          ]
        }
      ]
    },
    {
      "cell_type": "code",
      "source": [
        "def build_dataset(words):\n",
        "\n",
        "  block_size = 3\n",
        "  X, Y = [], []\n",
        "\n",
        "  for w in words:\n",
        "      #print(w)\n",
        "      context = [0] * block_size\n",
        "      for ch in w + '.':\n",
        "          ix = stoi[ch]\n",
        "          X.append(context)\n",
        "          Y.append(ix)\n",
        "          # Print the current context and the corresponding character\n",
        "          #print(''.join(itos[i] for i in context), '---->', itos[ix])\n",
        "          context = context[1:] + [ix]\n",
        "\n",
        "  # Convert the lists X and Y into torch tensors\n",
        "  X = torch.tensor(X)\n",
        "  Y = torch.tensor(Y)\n",
        "  print(X.shape,Y.shape)\n",
        "  return X, Y\n",
        "\n",
        "import random\n",
        "random.seed(42)\n",
        "random.shuffle(words)\n",
        "n1=int(0.8*len(words))\n",
        "n2=int(0.9*len(words))\n",
        "\n",
        "Xtr,  Ytr  = build_dataset(words[:n1])\n",
        "Xdev, Ydev = build_dataset(words[n1:n2])\n",
        "Xte,  Yte  = build_dataset(words[n2:])"
      ],
      "metadata": {
        "colab": {
          "base_uri": "https://localhost:8080/"
        },
        "id": "v_TEgcSBJNTb",
        "outputId": "c7bfe6e7-354c-4b32-9920-9718d2ae4078"
      },
      "execution_count": 4,
      "outputs": [
        {
          "output_type": "stream",
          "name": "stdout",
          "text": [
            "torch.Size([182625, 3]) torch.Size([182625])\n",
            "torch.Size([22655, 3]) torch.Size([22655])\n",
            "torch.Size([22866, 3]) torch.Size([22866])\n"
          ]
        }
      ]
    },
    {
      "cell_type": "code",
      "source": [
        "import torch.nn.init as init"
      ],
      "metadata": {
        "id": "DszaiEddMPeT"
      },
      "execution_count": 10,
      "outputs": []
    },
    {
      "cell_type": "code",
      "source": [
        "#10 dimensional embedding vector with 200 neuron hidden layer.\n",
        "\n",
        "g = torch.Generator().manual_seed(2147483647)\n",
        "C = torch.randn((27,10), generator = g)\n",
        "W1 = torch.randn((30, 300), generator = g)\n",
        "b1 = torch.randn(300, generator = g)\n",
        "W2 = torch.randn((300, 27), generator = g)\n",
        "b2 = torch.randn(27, generator = g)\n",
        "parameters = [C,W1,b1,W2,b2]\n",
        "\n",
        "init.xavier_uniform_(W1)\n",
        "\n",
        "# Apply Xavier initialization to W2\n",
        "init.xavier_uniform_(W2)\n",
        "\n",
        "\n",
        "sum(p.nelement() for p in parameters)"
      ],
      "metadata": {
        "colab": {
          "base_uri": "https://localhost:8080/"
        },
        "id": "0JlP_MifJNRC",
        "outputId": "8a8c6196-ec89-4c33-9f4b-2b3d20ea8fef"
      },
      "execution_count": 12,
      "outputs": [
        {
          "output_type": "execute_result",
          "data": {
            "text/plain": [
              "17697"
            ]
          },
          "metadata": {},
          "execution_count": 12
        }
      ]
    },
    {
      "cell_type": "code",
      "source": [
        "for p in parameters:\n",
        "  p.requires_grad=True"
      ],
      "metadata": {
        "id": "0uZQCFcuJNK2"
      },
      "execution_count": 13,
      "outputs": []
    },
    {
      "cell_type": "code",
      "source": [
        "lri   = []\n",
        "lossi = []\n",
        "stepi = []\n"
      ],
      "metadata": {
        "id": "3fV4ihpLJqRx"
      },
      "execution_count": 14,
      "outputs": []
    },
    {
      "cell_type": "code",
      "source": [
        "for i in range(100000):\n",
        "\n",
        "  #minibatch\n",
        "  ix = torch.randint(9,Xtr.shape[0],(128,))\n",
        "\n",
        "  #forward pass\n",
        "  emb = C[Xtr[ix]]\n",
        "  h = torch.tanh(emb.view(-1,30) @ W1 +b1)\n",
        "  logits = h @ W2 +b2\n",
        "  loss = F.cross_entropy(logits, Ytr[ix])\n",
        "  #print(loss.item())\n",
        "\n",
        "  #backward pass\n",
        "  for p in parameters:\n",
        "    p.grad= None\n",
        "  loss.backward()\n",
        "\n",
        "  #update\n",
        "  lr = 0.1 if i < 50000 else 0.01\n",
        "  for p in parameters:\n",
        "    p.data += -lr * p.grad\n",
        "\n",
        "  #trackstats\n",
        "  #lri.append(lre[i])\n",
        "  stepi.append(i)\n",
        "  lossi.append(loss.log10().item())\n",
        "\n",
        "#print(loss.item())"
      ],
      "metadata": {
        "id": "2j7lEVlUJqPf"
      },
      "execution_count": 15,
      "outputs": []
    },
    {
      "cell_type": "code",
      "source": [
        "plt.plot(stepi,lossi)"
      ],
      "metadata": {
        "colab": {
          "base_uri": "https://localhost:8080/",
          "height": 447
        },
        "id": "GBAawAC4JqNE",
        "outputId": "81d122c5-c644-45fd-f718-1575dbf86582"
      },
      "execution_count": 18,
      "outputs": [
        {
          "output_type": "execute_result",
          "data": {
            "text/plain": [
              "[<matplotlib.lines.Line2D at 0x78efac14eb90>]"
            ]
          },
          "metadata": {},
          "execution_count": 18
        },
        {
          "output_type": "display_data",
          "data": {
            "text/plain": [
              "<Figure size 640x480 with 1 Axes>"
            ],
            "image/png": "[encoded data removed]"
          },
          "metadata": {}
        }
      ]
    },
    {
      "cell_type": "code",
      "source": [
        "emb = C[Xtr]\n",
        "h = torch.tanh(emb.view(-1,30) @ W1 +b1)\n",
        "logits = h @ W2 +b2\n",
        "loss = F.cross_entropy(logits, Ytr)\n",
        "loss"
      ],
      "metadata": {
        "colab": {
          "base_uri": "https://localhost:8080/"
        },
        "id": "48oeWCByJqHT",
        "outputId": "99c8f181-5abf-4ce5-d4c9-4d1b6cd8fb16"
      },
      "execution_count": 16,
      "outputs": [
        {
          "output_type": "execute_result",
          "data": {
            "text/plain": [
              "tensor(2.0173, grad_fn=<NllLossBackward0>)"
            ]
          },
          "metadata": {},
          "execution_count": 16
        }
      ]
    },
    {
      "cell_type": "code",
      "source": [
        "emb = C[Xdev]\n",
        "h = torch.tanh(emb.view(-1,30) @ W1 +b1)\n",
        "logits = h @ W2 +b2\n",
        "loss = F.cross_entropy(logits, Ydev)\n",
        "loss"
      ],
      "metadata": {
        "colab": {
          "base_uri": "https://localhost:8080/"
        },
        "id": "_zrJ1laYJ5fX",
        "outputId": "2bdbd29b-4c7a-48e1-d282-0d6d17348f6c"
      },
      "execution_count": 17,
      "outputs": [
        {
          "output_type": "execute_result",
          "data": {
            "text/plain": [
              "tensor(2.0885, grad_fn=<NllLossBackward0>)"
            ]
          },
          "metadata": {},
          "execution_count": 17
        }
      ]
    },
    {
      "cell_type": "code",
      "source": [],
      "metadata": {
        "id": "72SSipedJ5dl"
      },
      "execution_count": null,
      "outputs": []
    },
    {
      "cell_type": "code",
      "source": [],
      "metadata": {
        "id": "R97qa-vmJ5bd"
      },
      "execution_count": null,
      "outputs": []
    },
    {
      "cell_type": "code",
      "source": [],
      "metadata": {
        "id": "BEoT_LL8J5ZJ"
      },
      "execution_count": null,
      "outputs": []
    },
    {
      "cell_type": "code",
      "source": [],
      "metadata": {
        "id": "TuYfQyv9J5Wo"
      },
      "execution_count": null,
      "outputs": []
    },
    {
      "cell_type": "code",
      "source": [],
      "metadata": {
        "id": "pqCWU8LpJ5UQ"
      },
      "execution_count": null,
      "outputs": []
    }
  ]
}