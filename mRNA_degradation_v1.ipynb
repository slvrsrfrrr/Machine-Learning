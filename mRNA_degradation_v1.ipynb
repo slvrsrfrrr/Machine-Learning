{
  "nbformat": 4,
  "nbformat_minor": 0,
  "metadata": {
    "colab": {
      "provenance": [],
      "gpuType": "T4",
      "authorship_tag": "ABX9TyPl6QFkKfpWyNJBn6e1opLT",
      "include_colab_link": true
    },
    "kernelspec": {
      "name": "python3",
      "display_name": "Python 3"
    },
    "language_info": {
      "name": "python"
    },
    "accelerator": "GPU"
  },
  "cells": [
    {
      "cell_type": "markdown",
      "metadata": {
        "id": "view-in-github",
        "colab_type": "text"
      },
      "source": [
        "<a href=\"https://colab.research.google.com/github/slvrsrfrrr/Machine-Learning/blob/main/mRNA_degradation_v1.ipynb\" target=\"_parent\"><img src=\"https://colab.research.google.com/assets/colab-badge.svg\" alt=\"Open In Colab\"/></a>"
      ]
    },
    {
      "cell_type": "markdown",
      "source": [
        "## Deep Learning Model to Predict mRNA Degregation"
      ],
      "metadata": {
        "id": "niyAPsHoOspj"
      }
    },
    {
      "cell_type": "markdown",
      "source": [
        "* Vaccines must be kept at low temperatures due to instabliity in mRNA molecule.\n",
        "\n",
        "* This project will aim to forcast the rate of degredation.\n",
        "* Degredation dataset from Kaggle\n"
      ],
      "metadata": {
        "id": "P3TSdWddO4HP"
      }
    },
    {
      "cell_type": "code",
      "execution_count": 1,
      "metadata": {
        "id": "K97QVl5yOsB8"
      },
      "outputs": [],
      "source": [
        "import json\n",
        "import pandas as pd\n",
        "import numpy as np\n",
        "\n",
        "#visualisation\n",
        "\n",
        "import plotly.express as px\n",
        "\n",
        "#deep learning libraries\n",
        "\n",
        "import tensorflow as tf\n",
        "from tensorflow import keras\n",
        "import keras.layers as L\n",
        "from sklearn.model_selection import train_test_split\n",
        "\n",
        "#seeds\n",
        "\n",
        "tf.random.set_seed(2023)\n",
        "np.random.seed(2023)"
      ]
    },
    {
      "cell_type": "markdown",
      "source": [
        "bring in data from kaggle:"
      ],
      "metadata": {
        "id": "zeoF0oRQP8qg"
      }
    },
    {
      "cell_type": "code",
      "source": [
        "from google.colab import files\n",
        "\n",
        "files.upload()"
      ],
      "metadata": {
        "colab": {
          "base_uri": "https://localhost:8080/",
          "height": 86
        },
        "id": "KCd9LtEIP60S",
        "outputId": "9c58beae-bd66-4eb0-a5a6-a53938f1ebf8"
      },
      "execution_count": 2,
      "outputs": [
        {
          "output_type": "display_data",
          "data": {
            "text/plain": [
              "<IPython.core.display.HTML object>"
            ],
            "text/html": [
              "\n",
              "     <input type=\"file\" id=\"files-223f5241-1f90-467b-90cb-3e7f2f2554a5\" name=\"files[]\" multiple disabled\n",
              "        style=\"border:none\" />\n",
              "     <output id=\"result-223f5241-1f90-467b-90cb-3e7f2f2554a5\">\n",
              "      Upload widget is only available when the cell has been executed in the\n",
              "      current browser session. Please rerun this cell to enable.\n",
              "      </output>\n",
              "      <script>// Copyright 2017 Google LLC\n",
              "//\n",
              "// Licensed under the Apache License, Version 2.0 (the \"License\");\n",
              "// you may not use this file except in compliance with the License.\n",
              "// You may obtain a copy of the License at\n",
              "//\n",
              "//      http://www.apache.org/licenses/LICENSE-2.0\n",
              "//\n",
              "// Unless required by applicable law or agreed to in writing, software\n",
              "// distributed under the License is distributed on an \"AS IS\" BASIS,\n",
              "// WITHOUT WARRANTIES OR CONDITIONS OF ANY KIND, either express or implied.\n",
              "// See the License for the specific language governing permissions and\n",
              "// limitations under the License.\n",
              "\n",
              "/**\n",
              " * @fileoverview Helpers for google.colab Python module.\n",
              " */\n",
              "(function(scope) {\n",
              "function span(text, styleAttributes = {}) {\n",
              "  const element = document.createElement('span');\n",
              "  element.textContent = text;\n",
              "  for (const key of Object.keys(styleAttributes)) {\n",
              "    element.style[key] = styleAttributes[key];\n",
              "  }\n",
              "  return element;\n",
              "}\n",
              "\n",
              "// Max number of bytes which will be uploaded at a time.\n",
              "const MAX_PAYLOAD_SIZE = 100 * 1024;\n",
              "\n",
              "function _uploadFiles(inputId, outputId) {\n",
              "  const steps = uploadFilesStep(inputId, outputId);\n",
              "  const outputElement = document.getElementById(outputId);\n",
              "  // Cache steps on the outputElement to make it available for the next call\n",
              "  // to uploadFilesContinue from Python.\n",
              "  outputElement.steps = steps;\n",
              "\n",
              "  return _uploadFilesContinue(outputId);\n",
              "}\n",
              "\n",
              "// This is roughly an async generator (not supported in the browser yet),\n",
              "// where there are multiple asynchronous steps and the Python side is going\n",
              "// to poll for completion of each step.\n",
              "// This uses a Promise to block the python side on completion of each step,\n",
              "// then passes the result of the previous step as the input to the next step.\n",
              "function _uploadFilesContinue(outputId) {\n",
              "  const outputElement = document.getElementById(outputId);\n",
              "  const steps = outputElement.steps;\n",
              "\n",
              "  const next = steps.next(outputElement.lastPromiseValue);\n",
              "  return Promise.resolve(next.value.promise).then((value) => {\n",
              "    // Cache the last promise value to make it available to the next\n",
              "    // step of the generator.\n",
              "    outputElement.lastPromiseValue = value;\n",
              "    return next.value.response;\n",
              "  });\n",
              "}\n",
              "\n",
              "/**\n",
              " * Generator function which is called between each async step of the upload\n",
              " * process.\n",
              " * @param {string} inputId Element ID of the input file picker element.\n",
              " * @param {string} outputId Element ID of the output display.\n",
              " * @return {!Iterable<!Object>} Iterable of next steps.\n",
              " */\n",
              "function* uploadFilesStep(inputId, outputId) {\n",
              "  const inputElement = document.getElementById(inputId);\n",
              "  inputElement.disabled = false;\n",
              "\n",
              "  const outputElement = document.getElementById(outputId);\n",
              "  outputElement.innerHTML = '';\n",
              "\n",
              "  const pickedPromise = new Promise((resolve) => {\n",
              "    inputElement.addEventListener('change', (e) => {\n",
              "      resolve(e.target.files);\n",
              "    });\n",
              "  });\n",
              "\n",
              "  const cancel = document.createElement('button');\n",
              "  inputElement.parentElement.appendChild(cancel);\n",
              "  cancel.textContent = 'Cancel upload';\n",
              "  const cancelPromise = new Promise((resolve) => {\n",
              "    cancel.onclick = () => {\n",
              "      resolve(null);\n",
              "    };\n",
              "  });\n",
              "\n",
              "  // Wait for the user to pick the files.\n",
              "  const files = yield {\n",
              "    promise: Promise.race([pickedPromise, cancelPromise]),\n",
              "    response: {\n",
              "      action: 'starting',\n",
              "    }\n",
              "  };\n",
              "\n",
              "  cancel.remove();\n",
              "\n",
              "  // Disable the input element since further picks are not allowed.\n",
              "  inputElement.disabled = true;\n",
              "\n",
              "  if (!files) {\n",
              "    return {\n",
              "      response: {\n",
              "        action: 'complete',\n",
              "      }\n",
              "    };\n",
              "  }\n",
              "\n",
              "  for (const file of files) {\n",
              "    const li = document.createElement('li');\n",
              "    li.append(span(file.name, {fontWeight: 'bold'}));\n",
              "    li.append(span(\n",
              "        `(${file.type || 'n/a'}) - ${file.size} bytes, ` +\n",
              "        `last modified: ${\n",
              "            file.lastModifiedDate ? file.lastModifiedDate.toLocaleDateString() :\n",
              "                                    'n/a'} - `));\n",
              "    const percent = span('0% done');\n",
              "    li.appendChild(percent);\n",
              "\n",
              "    outputElement.appendChild(li);\n",
              "\n",
              "    const fileDataPromise = new Promise((resolve) => {\n",
              "      const reader = new FileReader();\n",
              "      reader.onload = (e) => {\n",
              "        resolve(e.target.result);\n",
              "      };\n",
              "      reader.readAsArrayBuffer(file);\n",
              "    });\n",
              "    // Wait for the data to be ready.\n",
              "    let fileData = yield {\n",
              "      promise: fileDataPromise,\n",
              "      response: {\n",
              "        action: 'continue',\n",
              "      }\n",
              "    };\n",
              "\n",
              "    // Use a chunked sending to avoid message size limits. See b/62115660.\n",
              "    let position = 0;\n",
              "    do {\n",
              "      const length = Math.min(fileData.byteLength - position, MAX_PAYLOAD_SIZE);\n",
              "      const chunk = new Uint8Array(fileData, position, length);\n",
              "      position += length;\n",
              "\n",
              "      const base64 = btoa(String.fromCharCode.apply(null, chunk));\n",
              "      yield {\n",
              "        response: {\n",
              "          action: 'append',\n",
              "          file: file.name,\n",
              "          data: base64,\n",
              "        },\n",
              "      };\n",
              "\n",
              "      let percentDone = fileData.byteLength === 0 ?\n",
              "          100 :\n",
              "          Math.round((position / fileData.byteLength) * 100);\n",
              "      percent.textContent = `${percentDone}% done`;\n",
              "\n",
              "    } while (position < fileData.byteLength);\n",
              "  }\n",
              "\n",
              "  // All done.\n",
              "  yield {\n",
              "    response: {\n",
              "      action: 'complete',\n",
              "    }\n",
              "  };\n",
              "}\n",
              "\n",
              "scope.google = scope.google || {};\n",
              "scope.google.colab = scope.google.colab || {};\n",
              "scope.google.colab._files = {\n",
              "  _uploadFiles,\n",
              "  _uploadFilesContinue,\n",
              "};\n",
              "})(self);\n",
              "</script> "
            ]
          },
          "metadata": {}
        },
        {
          "output_type": "stream",
          "name": "stdout",
          "text": [
            "Saving kaggle.json to kaggle.json\n"
          ]
        },
        {
          "output_type": "execute_result",
          "data": {
            "text/plain": [
              "{'kaggle.json': b'{\"username\":\"sefahmed\",\"key\":\"8197c46f8100affcc3e1e2a341e604a9\"}'}"
            ]
          },
          "metadata": {},
          "execution_count": 2
        }
      ]
    },
    {
      "cell_type": "code",
      "source": [
        "!mkdir ~/.kaggle"
      ],
      "metadata": {
        "id": "slY6sTnhQgVx"
      },
      "execution_count": 3,
      "outputs": []
    },
    {
      "cell_type": "code",
      "source": [
        "!cp kaggle.json ~/.kaggle/"
      ],
      "metadata": {
        "id": "KGZA4S9uQloU"
      },
      "execution_count": 4,
      "outputs": []
    },
    {
      "cell_type": "code",
      "source": [
        "!chmod 600 ~/.kaggle/kaggle.json"
      ],
      "metadata": {
        "id": "QufUvyaHQqB9"
      },
      "execution_count": 5,
      "outputs": []
    },
    {
      "cell_type": "code",
      "source": [
        "!kaggle competitions download -c stanford-covid-vaccine"
      ],
      "metadata": {
        "colab": {
          "base_uri": "https://localhost:8080/"
        },
        "id": "vsg3CrmjQu5n",
        "outputId": "a2ed6f38-6689-4de4-e35d-28eb5dd9b3bf"
      },
      "execution_count": 6,
      "outputs": [
        {
          "output_type": "stream",
          "name": "stdout",
          "text": [
            "Downloading stanford-covid-vaccine.zip to /content\n",
            " 98% 88.0M/89.8M [00:05<00:00, 23.8MB/s]\n",
            "100% 89.8M/89.8M [00:05<00:00, 16.8MB/s]\n"
          ]
        }
      ]
    },
    {
      "cell_type": "code",
      "source": [
        "!unzip /content/stanford-covid-vaccine.zip -d /content/data"
      ],
      "metadata": {
        "id": "rCrOOimfRet7"
      },
      "execution_count": null,
      "outputs": []
    },
    {
      "cell_type": "markdown",
      "source": [
        "# Data Descriptions"
      ],
      "metadata": {
        "id": "A1j-pu2nT_wG"
      }
    },
    {
      "cell_type": "markdown",
      "source": [
        "**id**\n",
        "* An arbitrary identifier for each sample.\n",
        "\n",
        "**seq_scored**\n",
        "* (68 in Train and Public Test, 91 in Private Test)\n",
        "* Integer value denoting the number of positions used in scoring with predicted values.\n",
        "* This should match the length of reactivity, deg_* and *_error_* columns.\n",
        "* Note that molecules used for the Private Test will be longer than those in the Train and Public Test data, so the size of this vector will be different.\n",
        "\n",
        "**seq_length**\n",
        "* (107 in Train and Public Test, 130 in Private Test)\n",
        "* Integer values, denotes the length of sequence.\n",
        "* Note that molecules used for the Private Test will be longer than those in the Train and Public Test data, so the size of this vector will be different.\n",
        "\n",
        "**sequence**\n",
        "* (1x107 string in Train and Public Test, 130 in Private Test)\n",
        "* Describes the RNA sequence, a combination of A, G, U, and C for each sample.\n",
        "* Should be 107 characters long, and the first 68 bases should correspond to the 68 positions specified in seq_scored (note: indexed starting at 0).\n",
        "\n",
        "**structure**\n",
        "* (1x107 string in Train and Public Test, 130 in Private Test)\n",
        "* An array of (, ), and . characters that describe whether a base is estimated to be paired or unpaired.\n",
        "* Paired bases are denoted by opening and closing parentheses e.g. (….) means that base 0 is paired to base 5, and bases 1-4 are unpaired.\n",
        "\n",
        "**reactivity**\n",
        "* (1x68 vector in Train and Public Test, 1x91 in Private Test)\n",
        "* An array of floating point numbers, should have the same length as seq_scored.\n",
        "* These numbers are reactivity values for the first 68 bases as denoted in sequence, and used to determine the likely secondary structure of the RNA sample.\n",
        "\n",
        "**deg_pH10**\n",
        "* (1x68 vector in Train and Public Test, 1x91 in Private Test)\n",
        "* An array of floating point numbers, should have the same length as seq_scored.\n",
        "* These numbers are reactivity values for the first 68 bases as denoted in sequence, and used to determine the likelihood of degradation at the base/linkage after incubating without magnesium at high pH (pH 10).\n",
        "\n",
        "**deg_Mg_pH10**\n",
        "* (1x68 vector in Train and Public Test, 1x91 in Private Test)\n",
        "* An array of floating point numbers, should have the same length as seq_scored.\n",
        "* These numbers are reactivity values for the first 68 bases as denoted in sequence, and used to determine the likelihood of degradation at the base/linkage after incubating with magnesium in high pH (pH 10).\n",
        "\n",
        "**deg_50C**\n",
        "* (1x68 vector in Train and Public Test, 1x91 in Private Test)\n",
        "* An array of floating point numbers, should have the same length as seq_scored.\n",
        "* These numbers are reactivity values for the first 68 bases as denoted in sequence, and used to determine the likelihood of degradation at the base/linkage after incubating without magnesium at high temperature (50 degrees Celsius).\n",
        "\n",
        "**deg_Mg_50C**\n",
        "* (1x68 vector in Train and Public Test, 1x91 in Private Test)\n",
        "* An array of floating point numbers, should have the same length as seq_scored.\n",
        "* These numbers are reactivity values for the first 68 bases as denoted in sequence, and used to determine the likelihood of degradation at the base/linkage after incubating with magnesium at high temperature (50 degrees Celsius).\n",
        "\n",
        "*_error_*\n",
        "* An array of floating point numbers, should have the same length as the corresponding reactivity or deg_* columns, calculated errors in experimental values obtained in reactivity and deg_* columns.\n",
        "\n",
        "**predicted_loop_type**\n",
        "* (1x107 string)\n",
        "* Describes the structural context (also referred to as 'loop type')of each character in sequence.\n",
        "* Loop types assigned by bpRNA from Vienna RNAfold 2 structure.\n",
        "\n",
        "**target columns**\n",
        "* reactivity, deg_Mg_pH10, deg_Mg_50C, deg_pH10, deg_50C"
      ],
      "metadata": {
        "id": "APfBqk-6R_Yx"
      }
    },
    {
      "cell_type": "code",
      "source": [
        "train = pd.read_json('/content/data/train.json', lines=True)\n",
        "test = pd.read_json('/content/data/test.json', lines=True)\n",
        "sample_df = pd.read_csv('/content/data/sample_submission.csv')\n",
        "\n",
        "target_cols = ['reactivity','deg_Mg_pH10', 'deg_Mg_50C', 'deg_pH10', 'deg_50C']\n",
        "Model_Train = True"
      ],
      "metadata": {
        "id": "uiCscvUoRnPw"
      },
      "execution_count": 8,
      "outputs": []
    },
    {
      "cell_type": "markdown",
      "source": [
        "switching text to numerical."
      ],
      "metadata": {
        "id": "lX8_wVKMUwJg"
      }
    },
    {
      "cell_type": "markdown",
      "source": [
        "# Explore Data"
      ],
      "metadata": {
        "id": "dMzs-cl7U4Tu"
      }
    },
    {
      "cell_type": "code",
      "source": [
        "train.shape"
      ],
      "metadata": {
        "colab": {
          "base_uri": "https://localhost:8080/"
        },
        "id": "4i1i55sgSeZL",
        "outputId": "111029a6-5c5b-4cd2-9674-5bf65c3bfb81"
      },
      "execution_count": 9,
      "outputs": [
        {
          "output_type": "execute_result",
          "data": {
            "text/plain": [
              "(2400, 19)"
            ]
          },
          "metadata": {},
          "execution_count": 9
        }
      ]
    },
    {
      "cell_type": "code",
      "source": [
        "test.shape"
      ],
      "metadata": {
        "colab": {
          "base_uri": "https://localhost:8080/"
        },
        "id": "rpgo9OW-UC2D",
        "outputId": "d00abf2e-1196-43db-85f0-b1f6ad23b6ca"
      },
      "execution_count": 10,
      "outputs": [
        {
          "output_type": "execute_result",
          "data": {
            "text/plain": [
              "(3634, 7)"
            ]
          },
          "metadata": {},
          "execution_count": 10
        }
      ]
    },
    {
      "cell_type": "code",
      "source": [
        "train.head(5)"
      ],
      "metadata": {
        "colab": {
          "base_uri": "https://localhost:8080/",
          "height": 462
        },
        "id": "aB0QrlwHUHkQ",
        "outputId": "4ca29ccc-dc3b-4c7e-8bca-d36772126dff"
      },
      "execution_count": 11,
      "outputs": [
        {
          "output_type": "execute_result",
          "data": {
            "text/plain": [
              "   index            id                                           sequence  \\\n",
              "0      0  id_001f94081  GGAAAAGCUCUAAUAACAGGAGACUAGGACUACGUAUUUCUAGGUA...   \n",
              "1      1  id_0049f53ba  GGAAAAAGCGCGCGCGGUUAGCGCGCGCUUUUGCGCGCGCUGUACC...   \n",
              "2      2  id_006f36f57  GGAAAGUGCUCAGAUAAGCUAAGCUCGAAUAGCAAUCGAAUAGAAU...   \n",
              "3      3  id_0082d463b  GGAAAAGCGCGCGCGCGCGCGCGAAAAAGCGCGCGCGCGCGCGCGC...   \n",
              "4      4  id_0087940f4  GGAAAAUAUAUAAUAUAUUAUAUAAAUAUAUUAUAGAAGUAUAAUA...   \n",
              "\n",
              "                                           structure  \\\n",
              "0  .....((((((.......)))).)).((.....((..((((((......   \n",
              "1  .....(((((((((((((((((((((((....)))))))))).)))...   \n",
              "2  .....((((.((.....((((.(((.....)))..((((......)...   \n",
              "3  ......((((((((((((((((......))))))))))))))))((...   \n",
              "4  .....(((((((.((((((((((((.(((((((((....)))))))...   \n",
              "\n",
              "                                 predicted_loop_type  signal_to_noise  \\\n",
              "0  EEEEESSSSSSHHHHHHHSSSSBSSXSSIIIIISSIISSSSSSHHH...            6.894   \n",
              "1  EEEEESSSSSSSSSSSSSSSSSSSSSSSHHHHSSSSSSSSSSBSSS...            0.193   \n",
              "2  EEEEESSSSISSIIIIISSSSMSSSHHHHHSSSMMSSSSHHHHHHS...            8.800   \n",
              "3  EEEEEESSSSSSSSSSSSSSSSHHHHHHSSSSSSSSSSSSSSSSSS...            0.104   \n",
              "4  EEEEESSSSSSSBSSSSSSSSSSSSBSSSSSSSSSHHHHSSSSSSS...            0.423   \n",
              "\n",
              "   SN_filter  seq_length  seq_scored  \\\n",
              "0          1         107          68   \n",
              "1          0         107          68   \n",
              "2          1         107          68   \n",
              "3          0         107          68   \n",
              "4          0         107          68   \n",
              "\n",
              "                                    reactivity_error  \\\n",
              "0  [0.1359, 0.20700000000000002, 0.1633, 0.1452, ...   \n",
              "1  [2.8272, 2.8272, 2.8272, 4.7343, 2.5676, 2.567...   \n",
              "2  [0.0931, 0.13290000000000002, 0.11280000000000...   \n",
              "3  [3.5229, 6.0748, 3.0374, 3.0374, 3.0374, 3.037...   \n",
              "4  [1.665, 2.1728, 2.0041, 1.2405, 0.620200000000...   \n",
              "\n",
              "                                   deg_error_Mg_pH10  \\\n",
              "0  [0.26130000000000003, 0.38420000000000004, 0.1...   \n",
              "1  [73705.3985, 73705.3985, 73705.3985, 73705.398...   \n",
              "2  [0.1365, 0.2237, 0.1812, 0.1333, 0.1148, 0.160...   \n",
              "3  [73705.3985, 73705.3985, 73705.3985, 73705.398...   \n",
              "4  [4.2139, 3.9637000000000002, 3.2467, 2.4716, 1...   \n",
              "\n",
              "                                      deg_error_pH10  \\\n",
              "0  [0.2631, 0.28600000000000003, 0.0964, 0.1574, ...   \n",
              "1  [10.1986, 9.2418, 5.0933, 5.0933, 5.0933, 5.09...   \n",
              "2  [0.17020000000000002, 0.178, 0.111, 0.091, 0.0...   \n",
              "3  [11.8007, 12.7566, 5.7733, 5.7733, 5.7733, 5.7...   \n",
              "4  [3.0942, 3.015, 2.1212, 2.0552, 0.881500000000...   \n",
              "\n",
              "                                    deg_error_Mg_50C  \\\n",
              "0  [0.1501, 0.275, 0.0947, 0.18660000000000002, 0...   \n",
              "1  [16.6174, 13.868, 8.1968, 8.1968, 8.1968, 8.19...   \n",
              "2  [0.1033, 0.1464, 0.1126, 0.09620000000000001, ...   \n",
              "3  [121286.7181, 121286.7182, 121286.7181, 121286...   \n",
              "4  [2.6717, 2.4818, 1.9919, 2.5484999999999998, 1...   \n",
              "\n",
              "                                       deg_error_50C  \\\n",
              "0  [0.2167, 0.34750000000000003, 0.188, 0.2124, 0...   \n",
              "1  [15.4857, 7.9596, 13.3957, 5.8777, 5.8777, 5.8...   \n",
              "2  [0.14980000000000002, 0.1761, 0.1517, 0.116700...   \n",
              "3  [15.3995, 8.1124, 7.7824, 7.7824, 7.7824, 7.78...   \n",
              "4  [1.3285, 3.6173, 1.3057, 1.3021, 1.1507, 1.150...   \n",
              "\n",
              "                                          reactivity  \\\n",
              "0  [0.3297, 1.5693000000000001, 1.1227, 0.8686, 0...   \n",
              "1  [0.0, 0.0, 0.0, 2.2965, 0.0, 0.0, 0.0, 0.0, 0....   \n",
              "2  [0.44820000000000004, 1.4822, 1.1819, 0.743400...   \n",
              "3  [0.0, 2.2399, 0.0, 0.0, 0.0, 0.0, 0.0, 0.0, 0....   \n",
              "4  [0.8267, 2.6577, 2.8481, 0.40090000000000003, ...   \n",
              "\n",
              "                                         deg_Mg_pH10  \\\n",
              "0  [0.7556, 2.983, 0.2526, 1.3789, 0.637600000000...   \n",
              "1  [0.0, 0.0, 0.0, 0.0, 0.0, 0.0, 0.0, 0.0, 0.0, ...   \n",
              "2  [0.2504, 1.4021, 0.9804, 0.49670000000000003, ...   \n",
              "3  [0.0, -0.5083, 0.0, 0.0, 0.0, 0.0, 0.0, 0.0, 0...   \n",
              "4  [2.1058, 3.138, 2.5437000000000003, 1.0932, 0....   \n",
              "\n",
              "                                            deg_pH10  \\\n",
              "0  [2.3375, 3.5060000000000002, 0.3008, 1.0108, 0...   \n",
              "1  [4.947, 4.4523, 0.0, 0.0, 0.0, 0.0, 0.0, 0.0, ...   \n",
              "2  [2.243, 2.9361, 1.0553, 0.721, 0.6396000000000...   \n",
              "3  [3.4248, 6.8128, 0.0, 0.0, 0.0, 0.0, 0.0, 0.0,...   \n",
              "4  [4.7366, 4.6243, 1.2068, 1.1538, 0.0, 0.0, 0.7...   \n",
              "\n",
              "                                          deg_Mg_50C  \\\n",
              "0  [0.35810000000000003, 2.9683, 0.2589, 1.4552, ...   \n",
              "1  [4.8511, 4.0426, 0.0, 0.0, 0.0, 0.0, 0.0, 0.0,...   \n",
              "2  [0.5163, 1.6823000000000001, 1.0426, 0.7902, 0...   \n",
              "3  [0.0, -0.8365, 0.0, 0.0, 0.0, 0.0, 0.0, 0.0, 0...   \n",
              "4  [2.2052, 1.7947000000000002, 0.7457, 3.1233, 0...   \n",
              "\n",
              "                                             deg_50C  \n",
              "0  [0.6382, 3.4773, 0.9988, 1.3228, 0.78770000000...  \n",
              "1  [7.6692, 0.0, 10.9561, 0.0, 0.0, 0.0, 0.0, 0.0...  \n",
              "2  [0.9501000000000001, 1.7974999999999999, 1.499...  \n",
              "3  [7.6692, -1.3223, 0.0, 0.0, 0.0, 0.0, 0.0, 0.0...  \n",
              "4  [0.0, 5.1198, -0.3551, -0.3518, 0.0, 0.0, 0.0,...  "
            ],
            "text/html": [
              "\n",
              "  <div id=\"df-547ae4ce-cb3d-41c4-a264-8ce4e7146fc9\" class=\"colab-df-container\">\n",
              "    <div>\n",
              "<style scoped>\n",
              "    .dataframe tbody tr th:only-of-type {\n",
              "        vertical-align: middle;\n",
              "    }\n",
              "\n",
              "    .dataframe tbody tr th {\n",
              "        vertical-align: top;\n",
              "    }\n",
              "\n",
              "    .dataframe thead th {\n",
              "        text-align: right;\n",
              "    }\n",
              "</style>\n",
              "<table border=\"1\" class=\"dataframe\">\n",
              "  <thead>\n",
              "    <tr style=\"text-align: right;\">\n",
              "      <th></th>\n",
              "      <th>index</th>\n",
              "      <th>id</th>\n",
              "      <th>sequence</th>\n",
              "      <th>structure</th>\n",
              "      <th>predicted_loop_type</th>\n",
              "      <th>signal_to_noise</th>\n",
              "      <th>SN_filter</th>\n",
              "      <th>seq_length</th>\n",
              "      <th>seq_scored</th>\n",
              "      <th>reactivity_error</th>\n",
              "      <th>deg_error_Mg_pH10</th>\n",
              "      <th>deg_error_pH10</th>\n",
              "      <th>deg_error_Mg_50C</th>\n",
              "      <th>deg_error_50C</th>\n",
              "      <th>reactivity</th>\n",
              "      <th>deg_Mg_pH10</th>\n",
              "      <th>deg_pH10</th>\n",
              "      <th>deg_Mg_50C</th>\n",
              "      <th>deg_50C</th>\n",
              "    </tr>\n",
              "  </thead>\n",
              "  <tbody>\n",
              "    <tr>\n",
              "      <th>0</th>\n",
              "      <td>0</td>\n",
              "      <td>id_001f94081</td>\n",
              "      <td>GGAAAAGCUCUAAUAACAGGAGACUAGGACUACGUAUUUCUAGGUA...</td>\n",
              "      <td>.....((((((.......)))).)).((.....((..((((((......</td>\n",
              "      <td>EEEEESSSSSSHHHHHHHSSSSBSSXSSIIIIISSIISSSSSSHHH...</td>\n",
              "      <td>6.894</td>\n",
              "      <td>1</td>\n",
              "      <td>107</td>\n",
              "      <td>68</td>\n",
              "      <td>[0.1359, 0.20700000000000002, 0.1633, 0.1452, ...</td>\n",
              "      <td>[0.26130000000000003, 0.38420000000000004, 0.1...</td>\n",
              "      <td>[0.2631, 0.28600000000000003, 0.0964, 0.1574, ...</td>\n",
              "      <td>[0.1501, 0.275, 0.0947, 0.18660000000000002, 0...</td>\n",
              "      <td>[0.2167, 0.34750000000000003, 0.188, 0.2124, 0...</td>\n",
              "      <td>[0.3297, 1.5693000000000001, 1.1227, 0.8686, 0...</td>\n",
              "      <td>[0.7556, 2.983, 0.2526, 1.3789, 0.637600000000...</td>\n",
              "      <td>[2.3375, 3.5060000000000002, 0.3008, 1.0108, 0...</td>\n",
              "      <td>[0.35810000000000003, 2.9683, 0.2589, 1.4552, ...</td>\n",
              "      <td>[0.6382, 3.4773, 0.9988, 1.3228, 0.78770000000...</td>\n",
              "    </tr>\n",
              "    <tr>\n",
              "      <th>1</th>\n",
              "      <td>1</td>\n",
              "      <td>id_0049f53ba</td>\n",
              "      <td>GGAAAAAGCGCGCGCGGUUAGCGCGCGCUUUUGCGCGCGCUGUACC...</td>\n",
              "      <td>.....(((((((((((((((((((((((....)))))))))).)))...</td>\n",
              "      <td>EEEEESSSSSSSSSSSSSSSSSSSSSSSHHHHSSSSSSSSSSBSSS...</td>\n",
              "      <td>0.193</td>\n",
              "      <td>0</td>\n",
              "      <td>107</td>\n",
              "      <td>68</td>\n",
              "      <td>[2.8272, 2.8272, 2.8272, 4.7343, 2.5676, 2.567...</td>\n",
              "      <td>[73705.3985, 73705.3985, 73705.3985, 73705.398...</td>\n",
              "      <td>[10.1986, 9.2418, 5.0933, 5.0933, 5.0933, 5.09...</td>\n",
              "      <td>[16.6174, 13.868, 8.1968, 8.1968, 8.1968, 8.19...</td>\n",
              "      <td>[15.4857, 7.9596, 13.3957, 5.8777, 5.8777, 5.8...</td>\n",
              "      <td>[0.0, 0.0, 0.0, 2.2965, 0.0, 0.0, 0.0, 0.0, 0....</td>\n",
              "      <td>[0.0, 0.0, 0.0, 0.0, 0.0, 0.0, 0.0, 0.0, 0.0, ...</td>\n",
              "      <td>[4.947, 4.4523, 0.0, 0.0, 0.0, 0.0, 0.0, 0.0, ...</td>\n",
              "      <td>[4.8511, 4.0426, 0.0, 0.0, 0.0, 0.0, 0.0, 0.0,...</td>\n",
              "      <td>[7.6692, 0.0, 10.9561, 0.0, 0.0, 0.0, 0.0, 0.0...</td>\n",
              "    </tr>\n",
              "    <tr>\n",
              "      <th>2</th>\n",
              "      <td>2</td>\n",
              "      <td>id_006f36f57</td>\n",
              "      <td>GGAAAGUGCUCAGAUAAGCUAAGCUCGAAUAGCAAUCGAAUAGAAU...</td>\n",
              "      <td>.....((((.((.....((((.(((.....)))..((((......)...</td>\n",
              "      <td>EEEEESSSSISSIIIIISSSSMSSSHHHHHSSSMMSSSSHHHHHHS...</td>\n",
              "      <td>8.800</td>\n",
              "      <td>1</td>\n",
              "      <td>107</td>\n",
              "      <td>68</td>\n",
              "      <td>[0.0931, 0.13290000000000002, 0.11280000000000...</td>\n",
              "      <td>[0.1365, 0.2237, 0.1812, 0.1333, 0.1148, 0.160...</td>\n",
              "      <td>[0.17020000000000002, 0.178, 0.111, 0.091, 0.0...</td>\n",
              "      <td>[0.1033, 0.1464, 0.1126, 0.09620000000000001, ...</td>\n",
              "      <td>[0.14980000000000002, 0.1761, 0.1517, 0.116700...</td>\n",
              "      <td>[0.44820000000000004, 1.4822, 1.1819, 0.743400...</td>\n",
              "      <td>[0.2504, 1.4021, 0.9804, 0.49670000000000003, ...</td>\n",
              "      <td>[2.243, 2.9361, 1.0553, 0.721, 0.6396000000000...</td>\n",
              "      <td>[0.5163, 1.6823000000000001, 1.0426, 0.7902, 0...</td>\n",
              "      <td>[0.9501000000000001, 1.7974999999999999, 1.499...</td>\n",
              "    </tr>\n",
              "    <tr>\n",
              "      <th>3</th>\n",
              "      <td>3</td>\n",
              "      <td>id_0082d463b</td>\n",
              "      <td>GGAAAAGCGCGCGCGCGCGCGCGAAAAAGCGCGCGCGCGCGCGCGC...</td>\n",
              "      <td>......((((((((((((((((......))))))))))))))))((...</td>\n",
              "      <td>EEEEEESSSSSSSSSSSSSSSSHHHHHHSSSSSSSSSSSSSSSSSS...</td>\n",
              "      <td>0.104</td>\n",
              "      <td>0</td>\n",
              "      <td>107</td>\n",
              "      <td>68</td>\n",
              "      <td>[3.5229, 6.0748, 3.0374, 3.0374, 3.0374, 3.037...</td>\n",
              "      <td>[73705.3985, 73705.3985, 73705.3985, 73705.398...</td>\n",
              "      <td>[11.8007, 12.7566, 5.7733, 5.7733, 5.7733, 5.7...</td>\n",
              "      <td>[121286.7181, 121286.7182, 121286.7181, 121286...</td>\n",
              "      <td>[15.3995, 8.1124, 7.7824, 7.7824, 7.7824, 7.78...</td>\n",
              "      <td>[0.0, 2.2399, 0.0, 0.0, 0.0, 0.0, 0.0, 0.0, 0....</td>\n",
              "      <td>[0.0, -0.5083, 0.0, 0.0, 0.0, 0.0, 0.0, 0.0, 0...</td>\n",
              "      <td>[3.4248, 6.8128, 0.0, 0.0, 0.0, 0.0, 0.0, 0.0,...</td>\n",
              "      <td>[0.0, -0.8365, 0.0, 0.0, 0.0, 0.0, 0.0, 0.0, 0...</td>\n",
              "      <td>[7.6692, -1.3223, 0.0, 0.0, 0.0, 0.0, 0.0, 0.0...</td>\n",
              "    </tr>\n",
              "    <tr>\n",
              "      <th>4</th>\n",
              "      <td>4</td>\n",
              "      <td>id_0087940f4</td>\n",
              "      <td>GGAAAAUAUAUAAUAUAUUAUAUAAAUAUAUUAUAGAAGUAUAAUA...</td>\n",
              "      <td>.....(((((((.((((((((((((.(((((((((....)))))))...</td>\n",
              "      <td>EEEEESSSSSSSBSSSSSSSSSSSSBSSSSSSSSSHHHHSSSSSSS...</td>\n",
              "      <td>0.423</td>\n",
              "      <td>0</td>\n",
              "      <td>107</td>\n",
              "      <td>68</td>\n",
              "      <td>[1.665, 2.1728, 2.0041, 1.2405, 0.620200000000...</td>\n",
              "      <td>[4.2139, 3.9637000000000002, 3.2467, 2.4716, 1...</td>\n",
              "      <td>[3.0942, 3.015, 2.1212, 2.0552, 0.881500000000...</td>\n",
              "      <td>[2.6717, 2.4818, 1.9919, 2.5484999999999998, 1...</td>\n",
              "      <td>[1.3285, 3.6173, 1.3057, 1.3021, 1.1507, 1.150...</td>\n",
              "      <td>[0.8267, 2.6577, 2.8481, 0.40090000000000003, ...</td>\n",
              "      <td>[2.1058, 3.138, 2.5437000000000003, 1.0932, 0....</td>\n",
              "      <td>[4.7366, 4.6243, 1.2068, 1.1538, 0.0, 0.0, 0.7...</td>\n",
              "      <td>[2.2052, 1.7947000000000002, 0.7457, 3.1233, 0...</td>\n",
              "      <td>[0.0, 5.1198, -0.3551, -0.3518, 0.0, 0.0, 0.0,...</td>\n",
              "    </tr>\n",
              "  </tbody>\n",
              "</table>\n",
              "</div>\n",
              "    <div class=\"colab-df-buttons\">\n",
              "\n",
              "  <div class=\"colab-df-container\">\n",
              "    <button class=\"colab-df-convert\" onclick=\"convertToInteractive('df-547ae4ce-cb3d-41c4-a264-8ce4e7146fc9')\"\n",
              "            title=\"Convert this dataframe to an interactive table.\"\n",
              "            style=\"display:none;\">\n",
              "\n",
              "  <svg xmlns=\"http://www.w3.org/2000/svg\" height=\"24px\" viewBox=\"0 -960 960 960\">\n",
              "    <path d=\"M120-120v-720h720v720H120Zm60-500h600v-160H180v160Zm220 220h160v-160H400v160Zm0 220h160v-160H400v160ZM180-400h160v-160H180v160Zm440 0h160v-160H620v160ZM180-180h160v-160H180v160Zm440 0h160v-160H620v160Z\"/>\n",
              "  </svg>\n",
              "    </button>\n",
              "\n",
              "  <style>\n",
              "    .colab-df-container {\n",
              "      display:flex;\n",
              "      gap: 12px;\n",
              "    }\n",
              "\n",
              "    .colab-df-convert {\n",
              "      background-color: #E8F0FE;\n",
              "      border: none;\n",
              "      border-radius: 50%;\n",
              "      cursor: pointer;\n",
              "      display: none;\n",
              "      fill: #1967D2;\n",
              "      height: 32px;\n",
              "      padding: 0 0 0 0;\n",
              "      width: 32px;\n",
              "    }\n",
              "\n",
              "    .colab-df-convert:hover {\n",
              "      background-color: #E2EBFA;\n",
              "      box-shadow: 0px 1px 2px rgba(60, 64, 67, 0.3), 0px 1px 3px 1px rgba(60, 64, 67, 0.15);\n",
              "      fill: #174EA6;\n",
              "    }\n",
              "\n",
              "    .colab-df-buttons div {\n",
              "      margin-bottom: 4px;\n",
              "    }\n",
              "\n",
              "    [theme=dark] .colab-df-convert {\n",
              "      background-color: #3B4455;\n",
              "      fill: #D2E3FC;\n",
              "    }\n",
              "\n",
              "    [theme=dark] .colab-df-convert:hover {\n",
              "      background-color: #434B5C;\n",
              "      box-shadow: 0px 1px 3px 1px rgba(0, 0, 0, 0.15);\n",
              "      filter: drop-shadow(0px 1px 2px rgba(0, 0, 0, 0.3));\n",
              "      fill: #FFFFFF;\n",
              "    }\n",
              "  </style>\n",
              "\n",
              "    <script>\n",
              "      const buttonEl =\n",
              "        document.querySelector('#df-547ae4ce-cb3d-41c4-a264-8ce4e7146fc9 button.colab-df-convert');\n",
              "      buttonEl.style.display =\n",
              "        google.colab.kernel.accessAllowed ? 'block' : 'none';\n",
              "\n",
              "      async function convertToInteractive(key) {\n",
              "        const element = document.querySelector('#df-547ae4ce-cb3d-41c4-a264-8ce4e7146fc9');\n",
              "        const dataTable =\n",
              "          await google.colab.kernel.invokeFunction('convertToInteractive',\n",
              "                                                    [key], {});\n",
              "        if (!dataTable) return;\n",
              "\n",
              "        const docLinkHtml = 'Like what you see? Visit the ' +\n",
              "          '<a target=\"_blank\" href=https://colab.research.google.com/notebooks/data_table.ipynb>data table notebook</a>'\n",
              "          + ' to learn more about interactive tables.';\n",
              "        element.innerHTML = '';\n",
              "        dataTable['output_type'] = 'display_data';\n",
              "        await google.colab.output.renderOutput(dataTable, element);\n",
              "        const docLink = document.createElement('div');\n",
              "        docLink.innerHTML = docLinkHtml;\n",
              "        element.appendChild(docLink);\n",
              "      }\n",
              "    </script>\n",
              "  </div>\n",
              "\n",
              "\n",
              "<div id=\"df-c9b9c7f2-e1b5-46de-81f8-0d4175f72ac9\">\n",
              "  <button class=\"colab-df-quickchart\" onclick=\"quickchart('df-c9b9c7f2-e1b5-46de-81f8-0d4175f72ac9')\"\n",
              "            title=\"Suggest charts\"\n",
              "            style=\"display:none;\">\n",
              "\n",
              "<svg xmlns=\"http://www.w3.org/2000/svg\" height=\"24px\"viewBox=\"0 0 24 24\"\n",
              "     width=\"24px\">\n",
              "    <g>\n",
              "        <path d=\"M19 3H5c-1.1 0-2 .9-2 2v14c0 1.1.9 2 2 2h14c1.1 0 2-.9 2-2V5c0-1.1-.9-2-2-2zM9 17H7v-7h2v7zm4 0h-2V7h2v10zm4 0h-2v-4h2v4z\"/>\n",
              "    </g>\n",
              "</svg>\n",
              "  </button>\n",
              "\n",
              "<style>\n",
              "  .colab-df-quickchart {\n",
              "      --bg-color: #E8F0FE;\n",
              "      --fill-color: #1967D2;\n",
              "      --hover-bg-color: #E2EBFA;\n",
              "      --hover-fill-color: #174EA6;\n",
              "      --disabled-fill-color: #AAA;\n",
              "      --disabled-bg-color: #DDD;\n",
              "  }\n",
              "\n",
              "  [theme=dark] .colab-df-quickchart {\n",
              "      --bg-color: #3B4455;\n",
              "      --fill-color: #D2E3FC;\n",
              "      --hover-bg-color: #434B5C;\n",
              "      --hover-fill-color: #FFFFFF;\n",
              "      --disabled-bg-color: #3B4455;\n",
              "      --disabled-fill-color: #666;\n",
              "  }\n",
              "\n",
              "  .colab-df-quickchart {\n",
              "    background-color: var(--bg-color);\n",
              "    border: none;\n",
              "    border-radius: 50%;\n",
              "    cursor: pointer;\n",
              "    display: none;\n",
              "    fill: var(--fill-color);\n",
              "    height: 32px;\n",
              "    padding: 0;\n",
              "    width: 32px;\n",
              "  }\n",
              "\n",
              "  .colab-df-quickchart:hover {\n",
              "    background-color: var(--hover-bg-color);\n",
              "    box-shadow: 0 1px 2px rgba(60, 64, 67, 0.3), 0 1px 3px 1px rgba(60, 64, 67, 0.15);\n",
              "    fill: var(--button-hover-fill-color);\n",
              "  }\n",
              "\n",
              "  .colab-df-quickchart-complete:disabled,\n",
              "  .colab-df-quickchart-complete:disabled:hover {\n",
              "    background-color: var(--disabled-bg-color);\n",
              "    fill: var(--disabled-fill-color);\n",
              "    box-shadow: none;\n",
              "  }\n",
              "\n",
              "  .colab-df-spinner {\n",
              "    border: 2px solid var(--fill-color);\n",
              "    border-color: transparent;\n",
              "    border-bottom-color: var(--fill-color);\n",
              "    animation:\n",
              "      spin 1s steps(1) infinite;\n",
              "  }\n",
              "\n",
              "  @keyframes spin {\n",
              "    0% {\n",
              "      border-color: transparent;\n",
              "      border-bottom-color: var(--fill-color);\n",
              "      border-left-color: var(--fill-color);\n",
              "    }\n",
              "    20% {\n",
              "      border-color: transparent;\n",
              "      border-left-color: var(--fill-color);\n",
              "      border-top-color: var(--fill-color);\n",
              "    }\n",
              "    30% {\n",
              "      border-color: transparent;\n",
              "      border-left-color: var(--fill-color);\n",
              "      border-top-color: var(--fill-color);\n",
              "      border-right-color: var(--fill-color);\n",
              "    }\n",
              "    40% {\n",
              "      border-color: transparent;\n",
              "      border-right-color: var(--fill-color);\n",
              "      border-top-color: var(--fill-color);\n",
              "    }\n",
              "    60% {\n",
              "      border-color: transparent;\n",
              "      border-right-color: var(--fill-color);\n",
              "    }\n",
              "    80% {\n",
              "      border-color: transparent;\n",
              "      border-right-color: var(--fill-color);\n",
              "      border-bottom-color: var(--fill-color);\n",
              "    }\n",
              "    90% {\n",
              "      border-color: transparent;\n",
              "      border-bottom-color: var(--fill-color);\n",
              "    }\n",
              "  }\n",
              "</style>\n",
              "\n",
              "  <script>\n",
              "    async function quickchart(key) {\n",
              "      const quickchartButtonEl =\n",
              "        document.querySelector('#' + key + ' button');\n",
              "      quickchartButtonEl.disabled = true;  // To prevent multiple clicks.\n",
              "      quickchartButtonEl.classList.add('colab-df-spinner');\n",
              "      try {\n",
              "        const charts = await google.colab.kernel.invokeFunction(\n",
              "            'suggestCharts', [key], {});\n",
              "      } catch (error) {\n",
              "        console.error('Error during call to suggestCharts:', error);\n",
              "      }\n",
              "      quickchartButtonEl.classList.remove('colab-df-spinner');\n",
              "      quickchartButtonEl.classList.add('colab-df-quickchart-complete');\n",
              "    }\n",
              "    (() => {\n",
              "      let quickchartButtonEl =\n",
              "        document.querySelector('#df-c9b9c7f2-e1b5-46de-81f8-0d4175f72ac9 button');\n",
              "      quickchartButtonEl.style.display =\n",
              "        google.colab.kernel.accessAllowed ? 'block' : 'none';\n",
              "    })();\n",
              "  </script>\n",
              "</div>\n",
              "    </div>\n",
              "  </div>\n"
            ]
          },
          "metadata": {},
          "execution_count": 11
        }
      ]
    },
    {
      "cell_type": "code",
      "source": [
        "fig = px.histogram(train, 'signal_to_noise', nbins=30, title='Signal to Noise Distr.', width=1000,height=500)\n",
        "fig.show()"
      ],
      "metadata": {
        "colab": {
          "base_uri": "https://localhost:8080/",
          "height": 517
        },
        "id": "lkBtUYR5VEfl",
        "outputId": "48bad8fe-f206-4a53-afa0-4d5b7c8287e9"
      },
      "execution_count": 12,
      "outputs": [
        {
          "output_type": "display_data",
          "data": {
            "text/html": [
              "<html>\n",
              "<head><meta charset=\"utf-8\" /></head>\n",
              "<body>\n",
              "    <div>            <script src=\"https://cdnjs.cloudflare.com/ajax/libs/mathjax/2.7.5/MathJax.js?config=TeX-AMS-MML_SVG\"></script><script type=\"text/javascript\">if (window.MathJax && window.MathJax.Hub && window.MathJax.Hub.Config) {window.MathJax.Hub.Config({SVG: {font: \"STIX-Web\"}});}</script>                <script type=\"text/javascript\">window.PlotlyConfig = {MathJaxConfig: 'local'};</script>\n",
              "        <script charset=\"utf-8\" src=\"https://cdn.plot.ly/plotly-2.24.1.min.js\"></script>                <div id=\"d506fe1e-a032-42bc-8949-b687a7aa01f1\" class=\"plotly-graph-div\" style=\"height:500px; width:1000px;\"></div>            <script type=\"text/javascript\">                                    window.PLOTLYENV=window.PLOTLYENV || {};                                    if (document.getElementById(\"d506fe1e-a032-42bc-8949-b687a7aa01f1\")) {                    Plotly.newPlot(                        \"d506fe1e-a032-42bc-8949-b687a7aa01f1\",                        [{\"alignmentgroup\":\"True\",\"bingroup\":\"x\",\"hovertemplate\":\"signal_to_noise=%{x}\\u003cbr\\u003ecount=%{y}\\u003cextra\\u003e\\u003c\\u002fextra\\u003e\",\"legendgroup\":\"\",\"marker\":{\"color\":\"#636efa\",\"pattern\":{\"shape\":\"\"}},\"name\":\"\",\"nbinsx\":30,\"offsetgroup\":\"\",\"orientation\":\"v\",\"showlegend\":false,\"x\":[6.894,0.193,8.8,0.10400000000000001,0.423,4.136,2.485,1.7269999999999999,0.646,5.545,5.934,9.54,8.294,8.391,0.0,8.627,3.164,0.0,9.832,0.163,6.164,6.693,5.697,6.203,0.713,6.725,3.467,4.007,6.016,5.878,6.165,4.332,10.771,6.186,3.106,2.7439999999999998,8.486,6.188,1.049,6.615,6.797,5.727,5.022,5.37,2.331,6.72,6.393,4.873,7.456,0.0,4.019,9.257,4.286,0.0,3.122,1.754,3.708,3.955,5.038,8.11,4.153,6.224,5.213,2.949,5.195,5.785,3.012,6.718,0.919,3.73,2.973,1.787,2.258,4.227,6.756,9.814,12.453,7.671,5.767,6.741,5.365,3.912,4.928,4.5,5.381,6.161,0.749,3.675,4.49,5.196,7.609,5.212,0.34600000000000003,6.162,8.682,2.621,3.414,3.92,6.586,2.069,3.707,3.528,2.934,7.462,1.703,4.441,2.877,4.185,7.452,1.814,1.524,0.0,1.05,5.838,4.365,2.616,0.583,5.8100000000000005,3.902,1.58,3.152,6.686,8.062,12.464,5.281,3.833,2.487,7.752,7.163,4.285,0.865,4.642,4.869,0.0,3.133,0.229,1.867,3.734,1.241,2.807,3.233,4.601,7.305,3.396,6.396,0.613,6.376,6.672,5.645,9.037,10.563,0.0,9.608,5.472,5.125,5.222,4.129,0.0,0.757,5.233,5.17,5.668,3.161,8.558,8.364,2.496,4.71,3.113,9.659,3.235,5.611,9.87,5.219,0.9490000000000001,6.648,13.816,8.242,3.6310000000000002,2.487,5.588,2.445,8.073,5.377,0.428,1.395,0.646,8.982,6.612,5.417,5.696,5.432,8.55,1.8250000000000002,4.592,4.974,1.838,5.89,9.893,1.779,3.826,5.452,3.125,9.387,7.849,1.167,4.94,5.66,5.659,5.205,9.797,7.196,9.338,2.793,1.755,1.5779999999999998,5.827,3.9859999999999998,6.514,1.232,4.593,4.535,4.931,2.691,1.623,0.0,2.849,3.832,1.317,14.009,4.501,0.0,2.743,0.997,3.071,2.965,3.824,4.547,2.6,8.636,4.234,6.549,3.821,6.194,10.899000000000001,4.199,6.244,3.512,7.24,6.928,3.884,4.88,1.16,3.892,0.48,4.43,6.406,1.134,9.850999999999999,0.804,2.493,1.822,13.663,2.072,9.568,0.0,3.12,6.461,5.164,7.477,5.517,2.253,3.991,3.532,4.74,5.412,10.947,4.985,0.0,6.212,1.545,2.322,4.858,4.948,2.133,1.6139999999999999,0.454,5.619,4.388,1.354,5.721,8.154,5.759,3.615,0.888,3.574,0.482,0.28700000000000003,11.692,8.395,0.911,8.711,0.709,4.306,3.222,2.161,7.212,3.652,0.0,8.007,0.0,7.984,6.039,8.472,6.822,2.574,6.9879999999999995,0.034,6.261,2.299,11.807,5.5969999999999995,3.277,11.07,3.968,2.6390000000000002,9.76,14.535,5.248,5.676,8.431,6.603,9.168,4.89,4.678,4.1370000000000005,3.922,4.537,3.377,6.977,5.705,3.94,5.754,2.901,0.724,1.935,1.434,5.928,3.832,5.883,4.548,5.411,3.425,0.648,0.0,-0.097,0.976,3.693,6.514,6.136,4.937,7.009,5.031,6.62,8.247,3.876,4.267,11.122,7.699,2.6630000000000003,2.64,1.27,4.304,3.708,0.0,8.729,5.154,7.6,3.505,4.099,4.378,0.0,3.098,3.411,0.661,4.521,5.4,2.023,6.473,2.097,7.095,8.251,5.656,8.884,7.817,13.05,5.91,15.866,0.893,3.344,5.351,0.0,8.157,5.6129999999999995,1.289,4.534,4.688,8.002,4.191,5.343,1.857,4.152,6.426,6.575,11.236,3.973,7.781,4.759,3.141,6.883,6.01,5.971,8.079,3.257,4.673,5.725,7.832,4.056,3.936,1.609,6.964,3.331,0.0,4.7059999999999995,6.483,6.179,1.58,4.92,7.481,2.7039999999999997,0.849,3.893,4.592,2.187,7.523,6.12,1.754,5.495,0.054,7.371,6.122,5.977,8.109,10.21,0.0,3.414,2.414,5.833,1.8050000000000002,6.326,5.0,4.168,4.224,9.919,2.402,5.644,9.986,8.593,3.247,3.39,6.595,1.738,3.79,1.819,2.216,3.36,9.476,3.157,0.0,2.95,11.886,2.754,1.96,0.865,0.337,3.6189999999999998,7.237,0.435,6.213,4.455,6.719,1.065,3.737,1.342,1.645,6.562,0.762,7.8469999999999995,1.67,4.47,0.0,2.805,2.334,4.443,3.661,3.789,13.267,3.567,0.592,0.0,8.154,3.212,0.582,4.449,6.695,10.051,4.242,6.702,7.267,6.651,1.056,2.666,7.063,0.0,13.29,2.742,6.761,3.096,4.279,4.163,3.727,4.273,4.294,5.821,6.047,8.72,5.857,5.019,7.212,0.871,2.873,5.23,4.829,5.691,4.002,1.044,3.818,3.574,3.322,6.626,7.267,5.526,1.139,1.689,9.745,6.024,4.995,3.9130000000000003,4.663,0.535,1.262,3.545,5.692,0.148,2.586,4.023,6.7,5.032,9.024,5.68,7.516,4.753,4.715,0.0,0.627,7.607,7.564,4.591,6.913,5.283,0.792,3.841,1.85,0.785,3.674,5.71,1.7970000000000002,8.792,7.239,1.706,7.405,2.672,3.345,3.84,4.737,5.139,6.205,4.841,2.385,5.417,5.968,7.766,9.897,7.324,3.016,3.79,6.172,3.305,7.3629999999999995,1.012,8.713,3.241,8.127,5.353,5.023,8.299,6.799,1.018,0.514,0.0,5.956,1.745,4.327,6.958,1.438,6.125,1.751,2.159,5.561,1.7149999999999999,6.226,2.876,4.945,8.96,4.636,2.38,8.411,4.009,2.472,0.737,6.33,2.508,4.8870000000000005,5.5,0.871,7.446,7.156,5.421,3.841,7.138,1.721,1.742,3.338,1.046,5.368,4.43,5.194,3.973,12.236,0.631,1.176,0.969,0.673,5.229,5.894,8.376,5.078,2.637,7.209,8.013,4.218,3.836,5.127,4.294,4.287,2.898,13.308,5.6,3.49,5.092,5.189,5.566,6.029,4.585,2.961,4.179,3.392,2.319,1.8359999999999999,1.014,1.013,0.073,3.718,3.177,7.163,4.102,6.588,0.0,0.218,1.054,8.964,5.606,6.023,7.896,4.12,5.062,6.627,6.852,6.006,4.811,2.6029999999999998,3.594,4.066,7.491,6.596,5.347,3.107,3.373,9.98,6.216,8.173,6.116,0.977,2.086,4.974,3.403,-0.037,2.352,3.993,7.523,0.445,4.03,6.958,5.141,4.662,0.775,3.016,3.833,4.746,4.862,5.049,4.655,9.096,4.131,4.066,5.131,3.052,7.868,0.0,5.167,5.051,0.0,0.0,3.214,2.643,5.254,4.641,3.126,3.967,5.24,5.084,2.153,5.9,4.482,9.006,1.999,3.987,5.545,1.499,2.969,1.391,7.673,4.709,4.533,0.988,6.198,0.996,0.0,4.286,0.006,4.834,6.177,7.93,6.376,2.997,5.188,7.555,2.838,4.78,0.841,8.462,10.365,11.52,7.849,4.702,4.771,8.788,8.945,1.393,0.2,0.0,12.37,6.368,-0.036000000000000004,1.059,7.154,2.214,2.48,2.899,5.696,2.286,1.691,1.986,5.696,7.857,0.343,7.02,5.398,0.0,2.086,3.006,4.8629999999999995,7.366,9.722,8.792,3.414,0.895,5.664,6.744,7.684,2.757,4.551,4.743,3.224,2.81,0.161,4.836,6.506,7.41,3.386,3.507,2.467,5.261,4.173,2.702,3.9,1.07,8.506,4.607,2.327,0.0,6.246,6.819,5.767,0.0,6.705,2.729,9.365,0.0,3.123,5.737,2.7640000000000002,8.033,0.0,7.448,5.087,1.8559999999999999,9.881,7.898,5.366,1.891,1.725,0.069,4.153,7.077,5.084,2.474,3.484,2.686,5.108,0.759,8.364,3.848,3.9130000000000003,0.331,4.253,5.819,4.433,3.072,1.236,6.515,4.664,7.244,6.241,6.5280000000000005,7.457,9.07,3.613,4.845,4.16,4.058,3.91,8.175,5.888,8.263,3.883,1.246,6.077,0.8210000000000001,8.068,4.14,4.453,6.607,7.949,7.8260000000000005,9.246,6.329,3.856,3.127,3.098,5.812,4.031,3.344,10.712,8.816,0.0,4.145,6.086,2.998,7.289,2.071,4.652,5.361,7.89,8.633,5.785,6.7780000000000005,5.591,4.566,0.355,10.344,8.016,5.841,6.918,7.401,0.401,2.8449999999999998,4.087,6.723,1.423,5.007,3.128,1.603,4.422,6.05,5.85,6.85,3.604,4.673,3.589,4.5120000000000005,5.883,1.57,3.6,8.585,3.313,1.336,0.133,0.748,7.55,5.241,5.728,5.64,1.248,5.397,4.431,4.694,0.9500000000000001,2.014,5.55,6.95,0.668,6.948,2.737,4.029,5.804,5.505,8.556000000000001,2.553,8.928,0.363,6.936,3.3890000000000002,8.363,0.275,2.11,3.009,3.147,9.442,1.949,4.923,9.305,5.416,12.333,5.506,8.896,3.5,3.968,4.004,5.297,3.291,5.843,6.248,3.32,8.418,2.198,6.092,4.578,1.463,7.017,6.836,5.779,7.598,6.491,5.498,2.916,3.061,2.7039999999999997,4.297,0.0,3.673,1.9849999999999999,3.428,4.289,8.343,10.223,0.15,6.388,2.224,0.796,4.534,4.524,2.864,6.295,2.115,2.203,13.867,0.045,3.56,-0.10300000000000001,3.193,3.295,2.152,4.416,4.827,0.496,1.663,0.0,5.529,5.608,6.748,4.287,5.174,2.393,9.487,3.356,4.573,9.003,5.985,0.0,4.873,5.464,6.964,2.248,-0.005,6.868,0.6970000000000001,0.99,0.646,4.73,7.568,-0.023,6.098,6.7940000000000005,0.798,4.121,5.007,10.5,9.653,3.661,4.984,2.089,2.641,5.721,4.2780000000000005,0.0,11.765,9.393,4.41,5.84,4.713,8.947,2.565,1.31,0.507,0.644,4.412,3.9779999999999998,3.254,2.718,4.295,3.901,6.201,6.231,0.402,5.218,3.852,5.404,8.226,2.5869999999999997,6.367,2.454,2.25,5.792,2.395,4.123,5.29,0.449,0.0,3.543,7.247,9.161,7.437,5.843,7.566,2.602,0.6910000000000001,1.787,1.4100000000000001,5.692,1.675,4.429,9.087,0.989,3.665,8.969,3.2880000000000003,6.159,7.085,0.0,5.066,7.48,0.649,7.726,6.633,5.746,3.805,11.319,1.8399999999999999,0.0,0.749,10.214,7.522,2.574,5.748,0.016,4.698,0.40700000000000003,3.142,6.356,0.47900000000000004,0.076,2.84,3.411,6.5440000000000005,17.194,5.441,0.0,1.92,1.16,10.37,0.899,8.334,1.3599999999999999,4.7940000000000005,5.904,2.295,8.053,5.698,9.688,0.658,5.607,2.96,2.143,5.319,4.843,2.567,4.849,1.249,4.775,1.637,5.051,5.097,2.152,5.093,4.455,4.067,9.904,6.199,4.599,3.544,7.761,4.756,6.2780000000000005,5.795,3.354,0.0,4.558,2.043,3.743,2.708,5.789,6.091,0.7000000000000001,4.344,8.4,6.112,2.642,4.658,7.171,8.946,2.626,4.96,1.724,0.0,2.565,0.7030000000000001,5.378,5.037,2.373,4.757,6.779,2.259,4.75,3.609,1.004,4.76,9.517,9.997,7.385,6.76,2.67,10.497,6.541,6.917,6.49,0.14400000000000002,10.603,1.301,6.005,7.248,0.799,2.9530000000000003,0.0,6.943,2.871,0.0,6.294,1.577,2.745,11.285,7.14,5.168,0.057,9.501,5.771,6.039,6.614,5.219,3.575,9.979,5.77,1.359,3.832,8.117,5.199,6.626,6.182,2.436,2.8609999999999998,0.0,6.103,0.0,5.311,3.407,9.156,4.889,8.052,1.982,6.361,1.2610000000000001,1.2690000000000001,6.67,4.626,8.766,8.584,8.584,4.844,4.2,0.095,0.0,2.091,6.068,8.806000000000001,3.239,7.749,6.883,1.748,11.513,3.664,5.655,4.848,5.452,3.011,3.9,7.447,1.5819999999999999,10.323,0.037,8.278,3.8040000000000003,1.529,5.684,5.29,8.002,2.325,5.642,2.23,0.883,1.107,8.126,0.976,6.277,6.395,5.062,5.975,2.759,7.298,0.465,5.396,7.494,5.746,5.561,9.813,4.197,7.282,5.268,3.446,6.215,4.335,7.025,2.125,0.365,2.691,8.395,0.879,9.582,6.074,7.7059999999999995,0.0,0.134,4.646,5.76,0.926,5.169,0.317,1.889,4.755,3.055,6.118,0.993,3.598,4.628,2.833,2.37,0.6980000000000001,10.127,5.166,7.247,1.642,1.794,10.891,2.944,3.173,5.406,6.029,8.32,4.347,12.288,8.717,0.23500000000000001,3.475,2.917,2.105,2.342,7.96,2.464,3.3810000000000002,3.039,8.028,9.516,1.11,2.8810000000000002,7.619,7.321,3.964,6.418,1.714,2.002,1.08,4.925,1.424,5.007,6.979,0.5760000000000001,1.468,3.358,5.267,3.553,6.174,6.028,4.096,4.055,2.926,1.826,7.179,2.211,4.689,0.662,3.036,6.294,2.036,2.169,2.534,8.978,0.786,0.0,1.883,6.531,5.91,1.468,3.418,2.474,5.045,0.925,5.585,0.388,0.0,10.129,0.497,6.082,2.71,4.828,5.486,2.042,5.312,0.896,2.89,1.254,1.706,7.141,0.0,5.239,5.346,4.557,0.329,1.874,2.641,6.443,4.933,5.026,5.074,6.098,8.527,9.248,4.921,1.429,4.176,5.698,4.132,3.973,2.939,0.507,7.068,5.067,9.818,8.554,0.0,4.502,4.106,0.041,7.614,9.154,3.067,0.0,4.595,3.302,2.916,3.302,0.895,3.999,2.912,1.63,6.3629999999999995,6.703,2.664,0.0,8.596,7.482,0.985,1.8090000000000002,3.795,5.326,4.298,3.029,0.918,4.458,0.221,8.123,6.035,5.7010000000000005,1.996,0.0,0.0,5.932,3.908,5.539,4.193,1.037,4.509,1.9300000000000002,5.399,1.962,5.232,6.748,0.766,6.68,4.985,4.352,5.75,4.733,1.9849999999999999,2.545,7.316,6.979,6.68,4.252,2.4939999999999998,-0.001,9.036,4.018,2.872,3.681,2.696,2.002,4.58,1.913,9.186,8.933,6.875,4.048,0.084,11.379,9.174,3.3529999999999998,4.478,7.215,5.172,0.336,3.491,3.596,2.541,1.302,5.157,3.32,13.129,6.467,2.729,2.25,0.0,5.1,4.291,6.514,7.026,1.867,4.44,5.361,3.046,4.763,0.72,4.82,0.0,2.642,5.971,5.782,6.291,1.956,3.924,4.523,1.966,3.738,1.344,1.8399999999999999,5.5809999999999995,3.952,1.9929999999999999,1.859,1.409,5.001,6.578,10.362,7.08,2.014,5.93,0.775,3.358,3.259,6.855,3.924,3.964,10.763,1.186,9.251,2.3529999999999998,4.368,4.111,2.436,2.805,6.411,3.574,1.782,8.207,0.0,1.409,2.967,4.671,8.572,2.68,4.187,4.249,4.556,0.425,7.3870000000000005,7.19,4.931,10.102,8.403,5.401,7.297,1.5710000000000002,10.019,5.159,3.974,1.158,3.424,4.621,1.8519999999999999,4.902,2.089,6.41,3.257,7.274,4.173,11.438,8.031,2.81,7.554,4.635,3.997,5.522,8.414,3.669,3.196,0.926,2.727,5.105,7.5969999999999995,1.362,5.846,2.822,0.373,0.914,7.149,7.386,4.107,5.062,6.22,3.951,6.631,2.16,6.716,4.72,3.714,2.19,5.2620000000000005,3.615,0.312,7.305,8.318,0.501,5.047,8.865,6.026,1.3900000000000001,2.661,6.556,5.725,0.591,4.41,0.044,6.535,0.504,0.681,2.269,0.8130000000000001,3.355,3.416,6.413,8.298,4.577,5.417,4.344,0.601,6.326,4.129,5.476,0.333,5.646,0.199,6.088,0.658,3.384,3.5620000000000003,7.046,5.268,6.382,1.443,8.588,4.144,1.633,0.5640000000000001,4.2,8.095,5.194,3.898,6.963,0.514,6.116,5.546,7.882,3.152,7.946,13.622,4.66,4.862,1.012,1.658,8.604,4.1,0.639,4.2620000000000005,5.129,9.929,6.535,6.645,4.592,0.645,3.911,3.423,7.768,3.132,6.628,8.136,14.45,3.818,9.975999999999999,4.342,5.802,4.737,9.707,2.252,13.754,9.149,3.4859999999999998,6.302,2.842,1.528,4.8,0.0,2.101,2.489,1.478,4.14,4.263,5.406,4.439,6.514,2.484,3.833,7.07,6.023,0.872,6.846,4.301,7.748,5.788,7.519,6.109,3.817,0.559,5.711,0.337,3.128,1.017,1.466,0.851,5.014,5.087,0.0,3.571,5.707,9.455,5.967,9.131,6.754,9.678,2.904,0.23900000000000002,9.181,5.848,9.125,2.261,0.586,6.673,1.491,6.825,5.663,6.117,1.607,6.976,5.362,7.907,4.682,4.174,0.0,0.20800000000000002,2.532,5.584,3.274,5.197,4.782,6.892,5.365,7.674,2.654,2.239,3.055,3.222,4.481,5.25,2.468,5.083,3.358,6.905,7.798,0.593,4.658,6.366,4.724,5.622,9.118,7.171,6.64,4.442,2.949,4.745,3.841,1.733,1.291,1.003,5.687,5.834,6.116,0.0,5.663,0.865,6.126,0.584,7.325,4.838,5.059,1.123,6.516,5.241,3.2800000000000002,5.651,3.615,6.297,5.459,3.223,7.126,2.932,3.2439999999999998,8.181,11.568,4.332,5.713,9.451,7.771,0.17500000000000002,4.7780000000000005,1.221,6.28,0.05,4.626,1.354,1.276,3.005,5.953,4.185,8.749,2.001,3.533,5.804,0.883,6.2,4.845,3.496,7.224,5.091,1.116,0.443,4.128,0.877,6.534,8.76,4.09,6.118,9.026,2.979,1.542,4.099,3.317,7.938,8.982,8.437,0.465,6.468,0.006,3.009,1.102,0.272,4.93,12.935,0.0,6.04,0.35100000000000003,1.615,1.518,5.9719999999999995,2.926,3.6109999999999998,6.029,3.968,5.045,4.721,2.401,5.064,2.145,2.667,3.414,10.229,2.6790000000000003,2.434,0.55,1.008,4.98,6.62,0.429,2.212,3.908,8.414,1.012,4.306,3.022,11.372,2.495,8.336,3.794,2.6550000000000002,5.347,4.987,1.0,3.032,6.213,3.606,6.726,9.081,5.423,3.236,9.664,3.023,9.766,7.011,4.007,3.699,5.763,6.085,4.376,8.112,4.961,4.4,3.159,4.355,0.0,3.105,2.914,3.051,4.623,0.5650000000000001,0.006,2.883,4.114,8.946,6.219,8.102,0.0,8.931000000000001,10.104,3.564,4.316,9.079,0.542,0.0,0.553,7.336,8.132,5.291,1.512,1.5310000000000001,5.904,1.838,5.148,5.3870000000000005,1.4809999999999999,4.361,7.617,3.156,7.452,5.773,9.674,3.233,6.691,7.027,6.457,2.625,1.478,9.942,5.35,4.377,4.177,4.28,4.056,5.411,0.311,7.734,5.829,0.798,0.491,5.345,1.929,4.58,1.3860000000000001,4.305,7.882,1.193,4.308,4.248,5.334,7.131,7.941,7.311,2.533,5.833,0.743,11.557,2.753,6.968,3.76,6.979,4.893,3.4,2.114,0.0,5.328,2.14,0.0,2.738,0.911,4.9030000000000005,3.332,7.624,6.543,6.236,6.115,4.608,3.545,4.34,4.439,5.24,3.843,4.946,4.664,14.03,6.783,9.124,3.936,-0.08700000000000001,4.6530000000000005,4.545,3.5620000000000003,4.328,5.571,0.0,0.9580000000000001,7.889,0.0,2.85,0.96,4.146,5.51,4.077,8.456,6.643,3.7359999999999998,4.833,1.658,5.229,0.052000000000000005,2.515,1.5859999999999999,7.122,5.502,3.623,5.006,12.401,0.338,0.17400000000000002,6.572,5.824,7.968,8.07,4.415,2.555,6.912,6.054,0.007,1.895,0.301,0.0,5.537,3.884,0.0,4.843,8.021,4.163,7.691,2.363,0.058,0.708,0.0,2.396,0.366,5.23,6.364,3.23,1.518,7.693,10.83,4.628,7.51,5.857,1.051,10.091,7.558,0.0,1.887,3.515,15.585,7.311,6.174,1.873,4.297,0.0,0.293,6.287,1.08,3.027,2.198,4.444,5.728,2.318,3.011,3.955,4.057,8.329,0.0,6.724,0.244,6.431,5.665,9.816,2.24,6.3870000000000005,5.9030000000000005,1.213,5.203,3.052,2.172,0.0,4.917,6.474,5.616,6.16,1.08,4.729,3.472,4.828,3.33,4.739,3.716,1.26,2.341,9.51,2.32,7.331,5.024,0.0,0.0,2.821,3.05,6.693,6.118,2.035,3.358,3.484,0.0,3.478,2.248,3.789,3.025,1.3519999999999999,8.603,11.042,5.602,3.2800000000000002,5.343,6.899,5.981,4.298,1.929,3.222,5.348,1.351,5.049,9.723,6.259,1.786,0.0,1.167,5.599,1.365,2.168,7.328,4.118,5.949,8.661,2.592,1.263,2.227,7.931,0.0,4.855,7.38,4.545,4.458,4.365,6.204,8.996,6.965,4.156,12.223,6.178,8.617,4.579,2.027,1.758,4.133,10.932,2.489,4.83,6.094,4.926,6.107,5.636,0.0,6.833,4.976,6.645,2.292,7.708,4.155,6.853,5.728,7.525,7.27,2.719,5.633,3.534,1.7309999999999999,6.565,3.8810000000000002,1.235,2.528,6.486,0.0,3.279,6.802,7.05,5.35,2.191,0.611,5.157,3.839,6.556,1.321,6.834,0.0,6.253,1.691,7.891,6.099,2.349,11.103,7.098,3.223,1.6800000000000002,1.921,3.286,2.18,5.771,3.841,3.886,0.741,6.16,4.41,5.04,7.003,6.599,2.141,3.7640000000000002,3.442,3.624,0.0,5.448,10.169,5.6850000000000005,0.0,12.81,4.54,11.477,2.329,7.043,10.865,4.697,7.58,0.0,11.589,5.029,2.418,4.882,3.653,6.064,3.331,4.017,1.995,4.036,3.227,0.34500000000000003,5.553,6.545],\"xaxis\":\"x\",\"yaxis\":\"y\",\"type\":\"histogram\"}],                        {\"template\":{\"data\":{\"histogram2dcontour\":[{\"type\":\"histogram2dcontour\",\"colorbar\":{\"outlinewidth\":0,\"ticks\":\"\"},\"colorscale\":[[0.0,\"#0d0887\"],[0.1111111111111111,\"#46039f\"],[0.2222222222222222,\"#7201a8\"],[0.3333333333333333,\"#9c179e\"],[0.4444444444444444,\"#bd3786\"],[0.5555555555555556,\"#d8576b\"],[0.6666666666666666,\"#ed7953\"],[0.7777777777777778,\"#fb9f3a\"],[0.8888888888888888,\"#fdca26\"],[1.0,\"#f0f921\"]]}],\"choropleth\":[{\"type\":\"choropleth\",\"colorbar\":{\"outlinewidth\":0,\"ticks\":\"\"}}],\"histogram2d\":[{\"type\":\"histogram2d\",\"colorbar\":{\"outlinewidth\":0,\"ticks\":\"\"},\"colorscale\":[[0.0,\"#0d0887\"],[0.1111111111111111,\"#46039f\"],[0.2222222222222222,\"#7201a8\"],[0.3333333333333333,\"#9c179e\"],[0.4444444444444444,\"#bd3786\"],[0.5555555555555556,\"#d8576b\"],[0.6666666666666666,\"#ed7953\"],[0.7777777777777778,\"#fb9f3a\"],[0.8888888888888888,\"#fdca26\"],[1.0,\"#f0f921\"]]}],\"heatmap\":[{\"type\":\"heatmap\",\"colorbar\":{\"outlinewidth\":0,\"ticks\":\"\"},\"colorscale\":[[0.0,\"#0d0887\"],[0.1111111111111111,\"#46039f\"],[0.2222222222222222,\"#7201a8\"],[0.3333333333333333,\"#9c179e\"],[0.4444444444444444,\"#bd3786\"],[0.5555555555555556,\"#d8576b\"],[0.6666666666666666,\"#ed7953\"],[0.7777777777777778,\"#fb9f3a\"],[0.8888888888888888,\"#fdca26\"],[1.0,\"#f0f921\"]]}],\"heatmapgl\":[{\"type\":\"heatmapgl\",\"colorbar\":{\"outlinewidth\":0,\"ticks\":\"\"},\"colorscale\":[[0.0,\"#0d0887\"],[0.1111111111111111,\"#46039f\"],[0.2222222222222222,\"#7201a8\"],[0.3333333333333333,\"#9c179e\"],[0.4444444444444444,\"#bd3786\"],[0.5555555555555556,\"#d8576b\"],[0.6666666666666666,\"#ed7953\"],[0.7777777777777778,\"#fb9f3a\"],[0.8888888888888888,\"#fdca26\"],[1.0,\"#f0f921\"]]}],\"contourcarpet\":[{\"type\":\"contourcarpet\",\"colorbar\":{\"outlinewidth\":0,\"ticks\":\"\"}}],\"contour\":[{\"type\":\"contour\",\"colorbar\":{\"outlinewidth\":0,\"ticks\":\"\"},\"colorscale\":[[0.0,\"#0d0887\"],[0.1111111111111111,\"#46039f\"],[0.2222222222222222,\"#7201a8\"],[0.3333333333333333,\"#9c179e\"],[0.4444444444444444,\"#bd3786\"],[0.5555555555555556,\"#d8576b\"],[0.6666666666666666,\"#ed7953\"],[0.7777777777777778,\"#fb9f3a\"],[0.8888888888888888,\"#fdca26\"],[1.0,\"#f0f921\"]]}],\"surface\":[{\"type\":\"surface\",\"colorbar\":{\"outlinewidth\":0,\"ticks\":\"\"},\"colorscale\":[[0.0,\"#0d0887\"],[0.1111111111111111,\"#46039f\"],[0.2222222222222222,\"#7201a8\"],[0.3333333333333333,\"#9c179e\"],[0.4444444444444444,\"#bd3786\"],[0.5555555555555556,\"#d8576b\"],[0.6666666666666666,\"#ed7953\"],[0.7777777777777778,\"#fb9f3a\"],[0.8888888888888888,\"#fdca26\"],[1.0,\"#f0f921\"]]}],\"mesh3d\":[{\"type\":\"mesh3d\",\"colorbar\":{\"outlinewidth\":0,\"ticks\":\"\"}}],\"scatter\":[{\"fillpattern\":{\"fillmode\":\"overlay\",\"size\":10,\"solidity\":0.2},\"type\":\"scatter\"}],\"parcoords\":[{\"type\":\"parcoords\",\"line\":{\"colorbar\":{\"outlinewidth\":0,\"ticks\":\"\"}}}],\"scatterpolargl\":[{\"type\":\"scatterpolargl\",\"marker\":{\"colorbar\":{\"outlinewidth\":0,\"ticks\":\"\"}}}],\"bar\":[{\"error_x\":{\"color\":\"#2a3f5f\"},\"error_y\":{\"color\":\"#2a3f5f\"},\"marker\":{\"line\":{\"color\":\"#E5ECF6\",\"width\":0.5},\"pattern\":{\"fillmode\":\"overlay\",\"size\":10,\"solidity\":0.2}},\"type\":\"bar\"}],\"scattergeo\":[{\"type\":\"scattergeo\",\"marker\":{\"colorbar\":{\"outlinewidth\":0,\"ticks\":\"\"}}}],\"scatterpolar\":[{\"type\":\"scatterpolar\",\"marker\":{\"colorbar\":{\"outlinewidth\":0,\"ticks\":\"\"}}}],\"histogram\":[{\"marker\":{\"pattern\":{\"fillmode\":\"overlay\",\"size\":10,\"solidity\":0.2}},\"type\":\"histogram\"}],\"scattergl\":[{\"type\":\"scattergl\",\"marker\":{\"colorbar\":{\"outlinewidth\":0,\"ticks\":\"\"}}}],\"scatter3d\":[{\"type\":\"scatter3d\",\"line\":{\"colorbar\":{\"outlinewidth\":0,\"ticks\":\"\"}},\"marker\":{\"colorbar\":{\"outlinewidth\":0,\"ticks\":\"\"}}}],\"scattermapbox\":[{\"type\":\"scattermapbox\",\"marker\":{\"colorbar\":{\"outlinewidth\":0,\"ticks\":\"\"}}}],\"scatterternary\":[{\"type\":\"scatterternary\",\"marker\":{\"colorbar\":{\"outlinewidth\":0,\"ticks\":\"\"}}}],\"scattercarpet\":[{\"type\":\"scattercarpet\",\"marker\":{\"colorbar\":{\"outlinewidth\":0,\"ticks\":\"\"}}}],\"carpet\":[{\"aaxis\":{\"endlinecolor\":\"#2a3f5f\",\"gridcolor\":\"white\",\"linecolor\":\"white\",\"minorgridcolor\":\"white\",\"startlinecolor\":\"#2a3f5f\"},\"baxis\":{\"endlinecolor\":\"#2a3f5f\",\"gridcolor\":\"white\",\"linecolor\":\"white\",\"minorgridcolor\":\"white\",\"startlinecolor\":\"#2a3f5f\"},\"type\":\"carpet\"}],\"table\":[{\"cells\":{\"fill\":{\"color\":\"#EBF0F8\"},\"line\":{\"color\":\"white\"}},\"header\":{\"fill\":{\"color\":\"#C8D4E3\"},\"line\":{\"color\":\"white\"}},\"type\":\"table\"}],\"barpolar\":[{\"marker\":{\"line\":{\"color\":\"#E5ECF6\",\"width\":0.5},\"pattern\":{\"fillmode\":\"overlay\",\"size\":10,\"solidity\":0.2}},\"type\":\"barpolar\"}],\"pie\":[{\"automargin\":true,\"type\":\"pie\"}]},\"layout\":{\"autotypenumbers\":\"strict\",\"colorway\":[\"#636efa\",\"#EF553B\",\"#00cc96\",\"#ab63fa\",\"#FFA15A\",\"#19d3f3\",\"#FF6692\",\"#B6E880\",\"#FF97FF\",\"#FECB52\"],\"font\":{\"color\":\"#2a3f5f\"},\"hovermode\":\"closest\",\"hoverlabel\":{\"align\":\"left\"},\"paper_bgcolor\":\"white\",\"plot_bgcolor\":\"#E5ECF6\",\"polar\":{\"bgcolor\":\"#E5ECF6\",\"angularaxis\":{\"gridcolor\":\"white\",\"linecolor\":\"white\",\"ticks\":\"\"},\"radialaxis\":{\"gridcolor\":\"white\",\"linecolor\":\"white\",\"ticks\":\"\"}},\"ternary\":{\"bgcolor\":\"#E5ECF6\",\"aaxis\":{\"gridcolor\":\"white\",\"linecolor\":\"white\",\"ticks\":\"\"},\"baxis\":{\"gridcolor\":\"white\",\"linecolor\":\"white\",\"ticks\":\"\"},\"caxis\":{\"gridcolor\":\"white\",\"linecolor\":\"white\",\"ticks\":\"\"}},\"coloraxis\":{\"colorbar\":{\"outlinewidth\":0,\"ticks\":\"\"}},\"colorscale\":{\"sequential\":[[0.0,\"#0d0887\"],[0.1111111111111111,\"#46039f\"],[0.2222222222222222,\"#7201a8\"],[0.3333333333333333,\"#9c179e\"],[0.4444444444444444,\"#bd3786\"],[0.5555555555555556,\"#d8576b\"],[0.6666666666666666,\"#ed7953\"],[0.7777777777777778,\"#fb9f3a\"],[0.8888888888888888,\"#fdca26\"],[1.0,\"#f0f921\"]],\"sequentialminus\":[[0.0,\"#0d0887\"],[0.1111111111111111,\"#46039f\"],[0.2222222222222222,\"#7201a8\"],[0.3333333333333333,\"#9c179e\"],[0.4444444444444444,\"#bd3786\"],[0.5555555555555556,\"#d8576b\"],[0.6666666666666666,\"#ed7953\"],[0.7777777777777778,\"#fb9f3a\"],[0.8888888888888888,\"#fdca26\"],[1.0,\"#f0f921\"]],\"diverging\":[[0,\"#8e0152\"],[0.1,\"#c51b7d\"],[0.2,\"#de77ae\"],[0.3,\"#f1b6da\"],[0.4,\"#fde0ef\"],[0.5,\"#f7f7f7\"],[0.6,\"#e6f5d0\"],[0.7,\"#b8e186\"],[0.8,\"#7fbc41\"],[0.9,\"#4d9221\"],[1,\"#276419\"]]},\"xaxis\":{\"gridcolor\":\"white\",\"linecolor\":\"white\",\"ticks\":\"\",\"title\":{\"standoff\":15},\"zerolinecolor\":\"white\",\"automargin\":true,\"zerolinewidth\":2},\"yaxis\":{\"gridcolor\":\"white\",\"linecolor\":\"white\",\"ticks\":\"\",\"title\":{\"standoff\":15},\"zerolinecolor\":\"white\",\"automargin\":true,\"zerolinewidth\":2},\"scene\":{\"xaxis\":{\"backgroundcolor\":\"#E5ECF6\",\"gridcolor\":\"white\",\"linecolor\":\"white\",\"showbackground\":true,\"ticks\":\"\",\"zerolinecolor\":\"white\",\"gridwidth\":2},\"yaxis\":{\"backgroundcolor\":\"#E5ECF6\",\"gridcolor\":\"white\",\"linecolor\":\"white\",\"showbackground\":true,\"ticks\":\"\",\"zerolinecolor\":\"white\",\"gridwidth\":2},\"zaxis\":{\"backgroundcolor\":\"#E5ECF6\",\"gridcolor\":\"white\",\"linecolor\":\"white\",\"showbackground\":true,\"ticks\":\"\",\"zerolinecolor\":\"white\",\"gridwidth\":2}},\"shapedefaults\":{\"line\":{\"color\":\"#2a3f5f\"}},\"annotationdefaults\":{\"arrowcolor\":\"#2a3f5f\",\"arrowhead\":0,\"arrowwidth\":1},\"geo\":{\"bgcolor\":\"white\",\"landcolor\":\"#E5ECF6\",\"subunitcolor\":\"white\",\"showland\":true,\"showlakes\":true,\"lakecolor\":\"white\"},\"title\":{\"x\":0.05},\"mapbox\":{\"style\":\"light\"}}},\"xaxis\":{\"anchor\":\"y\",\"domain\":[0.0,1.0],\"title\":{\"text\":\"signal_to_noise\"}},\"yaxis\":{\"anchor\":\"x\",\"domain\":[0.0,1.0],\"title\":{\"text\":\"count\"}},\"legend\":{\"tracegroupgap\":0},\"title\":{\"text\":\"Signal to Noise Distr.\"},\"barmode\":\"relative\",\"height\":500,\"width\":1000},                        {\"responsive\": true}                    ).then(function(){\n",
              "                            \n",
              "var gd = document.getElementById('d506fe1e-a032-42bc-8949-b687a7aa01f1');\n",
              "var x = new MutationObserver(function (mutations, observer) {{\n",
              "        var display = window.getComputedStyle(gd).display;\n",
              "        if (!display || display === 'none') {{\n",
              "            console.log([gd, 'removed!']);\n",
              "            Plotly.purge(gd);\n",
              "            observer.disconnect();\n",
              "        }}\n",
              "}});\n",
              "\n",
              "// Listen for the removal of the full notebook cells\n",
              "var notebookContainer = gd.closest('#notebook-container');\n",
              "if (notebookContainer) {{\n",
              "    x.observe(notebookContainer, {childList: true});\n",
              "}}\n",
              "\n",
              "// Listen for the clearing of the current output cell\n",
              "var outputEl = gd.closest('.output');\n",
              "if (outputEl) {{\n",
              "    x.observe(outputEl, {childList: true});\n",
              "}}\n",
              "\n",
              "                        })                };                            </script>        </div>\n",
              "</body>\n",
              "</html>"
            ]
          },
          "metadata": {}
        }
      ]
    },
    {
      "cell_type": "markdown",
      "source": [
        "need to remove negative values."
      ],
      "metadata": {
        "id": "JDHNlYNbV4rX"
      }
    },
    {
      "cell_type": "code",
      "source": [
        "train = train.query('signal_to_noise >=1')"
      ],
      "metadata": {
        "id": "6sZciDBvV83M"
      },
      "execution_count": 13,
      "outputs": []
    },
    {
      "cell_type": "markdown",
      "source": [
        "look at sequence length distribution"
      ],
      "metadata": {
        "id": "mYuR01IaV08E"
      }
    },
    {
      "cell_type": "code",
      "source": [
        "fig = px.histogram(test, 'seq_length', nbins=25, title='sequence length dist.', width=1000,height=500)\n",
        "fig.show()"
      ],
      "metadata": {
        "colab": {
          "base_uri": "https://localhost:8080/",
          "height": 517
        },
        "id": "eYweMSZ3Vg2Z",
        "outputId": "d4b3896d-c7a7-48b2-fbdd-0bf81c5af240"
      },
      "execution_count": 14,
      "outputs": [
        {
          "output_type": "display_data",
          "data": {
            "text/html": [
              "<html>\n",
              "<head><meta charset=\"utf-8\" /></head>\n",
              "<body>\n",
              "    <div>            <script src=\"https://cdnjs.cloudflare.com/ajax/libs/mathjax/2.7.5/MathJax.js?config=TeX-AMS-MML_SVG\"></script><script type=\"text/javascript\">if (window.MathJax && window.MathJax.Hub && window.MathJax.Hub.Config) {window.MathJax.Hub.Config({SVG: {font: \"STIX-Web\"}});}</script>                <script type=\"text/javascript\">window.PlotlyConfig = {MathJaxConfig: 'local'};</script>\n",
              "        <script charset=\"utf-8\" src=\"https://cdn.plot.ly/plotly-2.24.1.min.js\"></script>                <div id=\"0a2a3740-d07b-4186-bd7e-77660b045401\" class=\"plotly-graph-div\" style=\"height:500px; width:1000px;\"></div>            <script type=\"text/javascript\">                                    window.PLOTLYENV=window.PLOTLYENV || {};                                    if (document.getElementById(\"0a2a3740-d07b-4186-bd7e-77660b045401\")) {                    Plotly.newPlot(                        \"0a2a3740-d07b-4186-bd7e-77660b045401\",                        [{\"alignmentgroup\":\"True\",\"bingroup\":\"x\",\"hovertemplate\":\"seq_length=%{x}\\u003cbr\\u003ecount=%{y}\\u003cextra\\u003e\\u003c\\u002fextra\\u003e\",\"legendgroup\":\"\",\"marker\":{\"color\":\"#636efa\",\"pattern\":{\"shape\":\"\"}},\"name\":\"\",\"nbinsx\":25,\"offsetgroup\":\"\",\"orientation\":\"v\",\"showlegend\":false,\"x\":[107,130,107,107,130,130,130,130,130,130,130,130,130,130,130,130,130,130,107,130,130,130,130,107,130,130,130,130,107,130,130,130,130,130,130,107,130,107,130,130,130,130,107,107,130,130,130,130,107,107,107,130,130,130,130,130,130,130,107,130,107,107,130,130,130,130,130,130,130,130,130,107,130,130,130,130,130,130,130,130,130,130,130,130,130,130,130,107,130,130,130,130,107,130,107,130,107,130,130,130,130,130,130,130,130,130,130,130,107,130,130,130,130,130,130,130,130,107,130,107,130,130,107,130,130,130,130,130,130,130,130,130,107,130,130,107,130,130,130,130,130,130,107,130,130,130,107,130,130,107,130,130,107,130,130,130,130,130,130,130,130,130,130,107,130,130,130,130,130,130,130,130,130,130,107,130,130,130,130,130,107,107,130,107,130,130,107,130,130,130,130,130,130,130,130,130,130,130,130,130,130,130,130,107,130,107,130,130,130,130,130,107,130,107,130,107,107,130,130,130,130,130,130,107,130,130,130,130,130,130,130,107,130,130,130,130,107,130,130,130,130,130,130,107,130,130,130,107,130,130,130,130,107,107,107,130,130,130,130,107,130,107,130,130,130,130,130,130,130,130,107,130,130,130,130,107,130,130,130,130,130,130,130,130,130,130,130,130,130,130,130,107,107,130,130,130,130,130,130,130,130,130,107,130,107,130,130,130,130,130,130,130,130,130,130,130,107,130,130,130,130,130,130,107,130,130,130,107,107,130,130,130,130,107,107,130,130,130,130,130,107,130,130,130,130,107,130,130,130,130,130,130,130,130,107,130,130,130,130,130,130,130,130,130,130,130,107,130,130,130,107,107,130,130,107,107,130,130,130,130,107,130,130,130,130,130,130,130,130,107,130,130,130,130,130,130,107,107,130,130,130,130,107,130,130,130,130,130,130,130,130,130,130,130,130,130,130,130,130,130,130,130,130,107,107,130,107,130,130,130,130,130,130,130,107,130,130,130,130,130,130,107,130,130,130,130,130,107,130,130,130,130,130,107,107,130,130,130,130,130,130,130,130,130,107,130,130,130,130,107,130,107,130,107,107,130,130,130,130,130,107,130,130,130,130,130,130,130,107,130,130,107,130,107,130,130,107,107,130,130,107,130,130,130,130,130,130,107,130,130,107,130,130,130,130,130,107,130,130,130,130,130,130,130,130,130,130,130,130,130,130,130,130,130,130,130,130,130,107,130,107,130,130,130,130,130,107,130,130,130,130,130,130,130,130,130,130,130,130,130,130,130,130,130,130,130,107,107,107,130,130,130,130,130,130,130,130,107,107,130,130,107,130,130,130,130,107,130,130,130,130,130,107,130,130,107,130,130,130,130,130,130,107,130,130,130,130,130,130,130,130,130,130,130,130,130,130,107,130,130,130,130,130,130,130,130,107,130,130,130,130,130,130,130,107,130,130,130,107,130,130,130,130,130,107,130,130,130,130,130,130,130,130,130,107,107,130,107,130,107,130,130,107,130,130,130,130,130,130,130,107,130,130,130,130,130,107,130,130,130,130,130,130,107,130,130,130,130,130,130,107,130,130,107,130,107,130,130,130,130,130,130,130,107,130,130,130,130,130,130,130,130,130,130,130,130,130,130,130,107,107,130,130,107,130,107,107,130,130,130,130,130,130,130,107,130,130,107,130,130,107,130,130,130,107,130,130,130,130,130,130,130,130,130,130,130,130,130,130,130,130,130,130,130,130,130,130,130,130,130,130,130,130,130,130,130,130,130,130,130,130,107,130,107,130,130,130,130,130,107,130,130,107,130,107,107,130,130,130,130,107,107,130,130,130,130,130,130,130,130,130,107,130,107,130,107,107,130,130,130,130,130,130,130,130,130,130,130,130,130,130,130,130,130,130,130,130,130,130,130,130,130,130,130,107,130,130,130,130,130,107,130,130,130,107,130,107,130,130,130,130,130,130,130,130,130,130,130,130,107,107,130,107,130,130,130,130,130,130,130,130,130,130,130,130,130,130,130,130,130,130,130,130,130,130,130,130,130,130,130,130,130,130,130,107,130,130,130,130,130,130,130,130,130,107,130,130,107,130,130,130,130,107,130,107,130,130,130,130,130,130,130,130,130,107,130,130,130,130,130,107,130,130,130,130,130,107,130,130,130,130,130,130,130,130,130,107,130,130,130,130,130,130,130,130,130,107,130,130,130,130,130,130,130,130,130,130,130,130,130,130,130,130,130,130,130,107,130,130,130,130,107,130,130,130,130,130,130,130,130,130,130,130,130,130,130,130,107,130,130,130,130,107,130,130,130,130,130,130,130,130,130,130,107,107,107,130,130,130,130,130,107,130,130,130,130,130,130,130,130,130,130,130,130,107,107,107,130,130,107,130,107,130,130,130,130,130,107,130,130,130,130,130,107,130,107,130,130,130,130,130,107,130,130,130,130,130,130,130,107,130,130,130,130,130,130,130,130,130,107,130,107,130,130,107,130,130,130,107,130,130,130,130,107,130,130,130,107,130,130,130,130,130,130,130,130,130,130,130,107,130,130,130,130,130,130,130,130,130,130,107,130,130,130,130,130,107,107,130,130,130,107,130,130,107,130,130,130,130,107,130,130,130,130,130,130,130,130,130,130,107,107,130,107,130,130,130,130,130,130,130,130,107,130,130,130,130,130,130,130,130,130,130,130,130,130,107,130,130,130,130,130,130,130,130,130,130,130,130,130,130,107,130,130,130,107,130,130,130,130,130,130,130,130,107,130,130,130,107,130,130,107,130,130,130,130,130,130,130,107,130,130,107,130,130,130,130,130,107,130,130,107,107,130,130,130,130,130,130,107,130,130,130,130,130,130,130,130,130,107,130,130,130,130,130,130,130,107,130,130,130,130,130,130,130,130,130,130,130,130,130,130,130,130,130,130,130,130,130,130,130,130,130,130,130,130,130,130,130,130,130,130,107,130,130,130,130,130,107,130,130,130,107,130,130,107,107,130,130,130,130,107,130,130,107,107,130,130,130,130,130,107,130,130,130,130,130,130,130,130,130,130,130,107,130,107,130,130,107,130,130,130,130,130,107,130,130,130,130,107,107,130,130,130,130,130,130,130,107,130,130,130,130,130,130,130,107,130,130,107,130,130,130,130,130,130,130,130,130,130,130,130,130,130,130,130,130,130,107,130,107,107,130,130,130,107,107,130,130,130,130,130,130,130,130,130,130,130,130,130,130,130,130,130,130,130,130,107,130,130,130,107,107,107,130,130,130,107,130,107,130,130,130,130,130,130,130,130,130,107,130,130,130,130,130,107,130,130,130,130,130,130,130,130,130,130,130,130,130,130,130,130,107,130,130,130,130,130,130,130,130,130,130,107,107,130,130,130,130,130,107,130,130,130,130,130,130,107,130,107,130,107,107,130,130,130,130,107,130,130,130,107,130,107,130,130,130,130,130,130,130,130,107,130,130,130,130,130,130,130,130,130,130,130,130,130,130,130,130,130,130,130,130,130,130,130,130,107,130,130,130,107,130,130,130,130,130,130,130,130,107,130,130,130,107,130,130,107,130,130,130,107,130,130,130,107,130,130,107,130,130,130,130,130,130,130,130,130,130,130,130,130,130,107,130,130,107,130,130,130,107,130,130,107,130,130,130,107,130,130,107,130,130,130,130,130,130,130,107,130,130,130,130,107,107,130,130,130,130,130,130,130,130,130,130,130,107,107,130,130,107,130,130,130,130,130,130,130,130,130,130,130,130,130,130,130,107,107,130,130,130,130,130,130,130,130,130,130,130,130,130,130,130,130,130,130,130,130,130,130,130,130,130,130,130,130,107,130,130,130,130,130,130,130,130,130,130,130,130,130,130,130,130,130,107,130,130,107,130,130,130,130,107,130,130,130,107,130,130,130,130,130,130,130,130,130,130,130,107,130,130,107,130,130,107,130,130,130,130,130,130,130,130,130,130,107,130,107,130,107,130,130,130,107,130,107,130,130,130,130,130,130,130,130,107,130,107,130,130,130,130,130,130,107,130,130,107,130,130,130,130,130,130,107,130,130,130,130,130,130,130,130,107,130,130,107,130,130,130,130,107,130,130,107,130,107,130,130,130,130,130,130,130,130,107,130,130,130,130,130,107,130,130,130,130,130,107,107,130,130,130,130,130,130,130,130,130,130,130,130,107,130,130,130,130,107,107,130,130,130,107,107,130,107,130,130,130,107,130,130,130,130,130,130,130,130,130,130,107,130,130,130,130,130,130,107,130,130,107,130,107,107,130,107,130,130,130,130,130,107,130,107,130,130,130,130,130,130,107,107,130,130,130,130,130,130,130,130,130,130,130,130,130,130,130,130,130,130,107,130,107,130,130,130,130,130,130,130,130,130,130,130,130,130,107,130,107,130,107,107,107,130,130,130,130,130,130,130,107,130,107,130,107,107,107,130,130,130,130,130,130,107,130,107,130,130,130,130,130,130,107,130,130,130,130,130,130,130,130,107,130,130,130,130,130,130,130,107,130,130,130,130,130,130,130,107,130,107,130,130,130,130,130,130,107,130,130,130,130,130,130,107,107,130,130,130,130,130,130,107,130,130,130,130,107,130,107,130,130,130,130,130,130,130,130,130,130,130,130,130,130,130,130,130,130,130,130,130,130,130,130,107,130,107,130,130,107,130,130,130,130,130,130,107,130,130,130,130,130,107,130,130,130,130,130,107,130,130,107,130,130,130,130,130,107,130,130,130,130,107,130,107,130,130,130,130,130,130,130,130,130,130,130,130,130,130,130,130,130,130,130,130,130,130,130,130,130,107,130,107,130,130,130,130,130,130,107,107,130,130,107,130,130,107,130,107,107,130,130,130,130,130,130,130,130,130,130,107,130,130,130,130,130,107,130,130,130,130,130,130,107,107,130,130,130,130,130,130,107,130,130,130,107,130,130,130,107,107,130,107,130,130,130,107,130,130,130,107,130,130,107,130,130,130,107,130,130,130,107,107,107,130,130,130,130,130,107,130,107,107,130,107,130,130,130,107,130,130,130,130,130,130,107,130,130,130,107,107,130,130,130,107,130,130,130,130,130,107,130,130,130,107,130,130,130,130,130,130,130,130,130,130,130,130,107,130,130,130,130,107,130,130,130,130,130,130,130,130,130,107,130,130,130,130,130,130,130,130,130,130,130,130,130,130,130,107,130,130,130,130,130,130,130,107,130,107,130,130,107,130,107,130,130,107,130,130,130,130,130,130,107,130,130,130,130,130,130,130,130,130,130,107,107,107,130,130,130,130,130,107,107,130,107,107,107,130,130,130,107,107,130,130,130,130,130,130,130,130,130,130,107,130,130,107,130,130,130,130,130,130,130,107,130,130,130,130,130,130,130,130,130,130,130,130,130,130,130,107,130,130,130,130,130,130,130,130,107,130,107,130,130,130,130,130,130,130,130,130,130,130,130,130,130,130,130,107,107,130,130,130,130,130,130,130,130,107,130,130,130,130,130,107,130,130,130,130,130,130,130,130,107,130,130,130,130,130,130,130,130,130,130,107,130,130,107,130,107,107,130,107,130,107,130,130,130,130,107,130,130,130,130,130,130,130,130,130,130,130,130,130,130,107,130,130,130,130,130,130,130,130,130,107,130,130,130,107,130,130,130,130,130,130,130,107,130,130,130,107,107,130,130,130,130,130,130,107,107,130,130,130,130,107,107,130,130,107,130,130,130,130,130,130,130,107,130,107,130,130,130,130,130,130,130,130,130,130,130,107,130,130,130,130,130,130,130,107,107,130,107,130,107,130,107,130,130,130,130,130,130,107,130,130,130,107,130,130,130,130,130,130,107,130,130,130,130,130,130,107,130,130,130,130,130,130,130,130,130,130,130,130,130,130,130,130,130,130,130,130,130,130,130,130,130,130,130,130,130,130,107,130,130,130,130,130,130,107,130,130,130,130,130,130,130,107,130,130,130,130,107,130,130,130,130,130,130,130,130,130,130,107,130,130,130,130,130,130,107,130,130,107,130,130,130,130,130,130,130,130,130,130,130,130,130,130,107,130,130,130,130,130,130,130,107,130,107,107,130,130,107,130,107,130,130,107,130,130,130,130,107,130,130,130,130,130,130,130,130,130,107,107,130,130,130,130,107,130,130,130,107,130,130,130,107,130,130,107,130,130,130,130,130,130,130,130,130,130,130,130,130,130,130,130,130,130,130,130,130,107,130,130,130,130,107,130,130,107,107,130,130,107,130,130,130,130,130,130,130,130,130,130,130,130,130,130,107,130,130,130,130,130,130,130,130,130,130,130,130,130,107,130,130,130,130,130,130,130,130,130,107,130,107,130,130,130,130,130,130,107,130,130,130,130,130,130,130,130,130,130,130,130,130,130,130,130,130,107,107,130,130,107,130,130,107,130,130,130,130,130,130,107,130,107,130,130,130,130,130,130,130,130,130,130,107,130,130,107,130,130,107,130,130,130,130,107,107,130,107,107,130,130,130,130,130,130,130,130,130,107,130,130,130,130,130,130,107,130,130,130,130,130,107,130,130,130,130,107,130,130,107,107,130,107,107,107,130,130,130,130,130,130,130,130,107,130,130,130,130,107,107,130,130,107,130,130,130,130,130,130,130,130,107,130,130,130,130,130,130,130,130,107,107,107,130,130,130,130,130,130,130,130,107,130,130,130,130,107,130,130,130,107,130,130,107,130,130,130,130,130,130,130,130,130,130,130,107,107,130,130,130,130,130,130,107,130,130,107,130,130,130,130,130,130,130,107,130,130,107,130,130,107,107,130,130,107,130,107,130,130,130,130,130,130,130,130,107,130,130,130,107,130,130,130,130,130,130,130,130,130,107,130,130,130,130,130,130,130,130,130,130,130,130,130,107,130,130,130,130,130,130,130,130,130,107,107,130,130,130,107,130,130,130,130,130,130,130,130,107,107,130,130,130,130,130,130,130,107,130,130,130,130,130,130,130,130,130,130,130,130,130,130,130,130,130,107,130,130,130,130,130,130,130,130,130,130,130,130,130,130,107,130,130,107,130,130,130,107,107,130,130,130,130,107,130,107,130,130,107,130,130,130,130,130,130,130,130,107,130,107,130,130,130,107,130,130,130,130,130,130,130,130,130,130,130,107,130,130,130,130,130,130,130,107,107,130,130,130,107,130,130,130,107,130,107,130,130,130,130,130,130,130,130,130,130,130,130,130,130,130,107,130,130,107,130,130,130,107,130,130,130,130,107,130,130,130,130,130,130,130,107,130,130,130,130,130,107,130,130,130,130,130,130,130,130,130,130,130,130,130,130,130,130,107,130,107,130,130,130,107,130,130,130,130,107,107,130,130,130,130,130,130,130,130,130,130,107,130,130,130,130,130,107,130,130,130,130,130,130,130,130,130,130,130,130,130,130,130,130,130,130,130,130,130,130,130,130,107,130,130,107,107,130,130,130,130,107,107,130,130,130,130,130,130,130,130,130,130,130,130,130,130,130,130,130,130,107,130,130,130,130,130,130,130,130,130,130,130,107,130,130,130,130,130,107,130,130,130,130,130,130,107,130,130,107,130,107,130,130,130,130,130,130,107,130,130,130,130,130,130,130,130,130,107,130,130,130,107,130,107,130,130,130,130,130,107,130,130,130,130,107,130,130,130,130,130,130,130,130,130,107,130,130,107,107,107,107,130,130,130,130,130,130,130,130,130,130,130,130,130,130,130,130,130,130,130,130,130,130,130,130,130,130,130,130,130,107,130,130,130,130,130,130,130,130,130,130,130,130,130,130,130,130,107,130,130,130,107,130,107,130,130,107,130,130,130,107,130,130,130,130,130,130,130,130,130,107,130,130,130,130,130,130,107,107,130,130,130,130,130,130,130,107,130,130,130,130,130,130,130,130,130,130,130,130,130,130,107,107,130,130,130,130,130,130,130,130,130,130,130,130,107,130,130,130,130,130,107,130,130,130,130,130,107,130,130,130,107,130,130,130,130,130,130,130,130,130,130,130,130,130,130,130,130,130,130,130,130,130,130,107,130,130,107,107,130,130,130,130,130,130,130,130,130,130,130,130,130,130,130,130,130,130,130,130,130,130,107,107,130,130,130,107,107,130,130,130,130,130,130,130,130,107,130,130,130,130,107,130,107,130,130,130,130,130,107,130,130,130,130,130,130,130,130,130,107,130,130,130,130,107,107,130,130,130,130,130,130,107,130,130,130,130,130,107,107,130,130,130,107,130,130,130,130,130,130],\"xaxis\":\"x\",\"yaxis\":\"y\",\"type\":\"histogram\"}],                        {\"template\":{\"data\":{\"histogram2dcontour\":[{\"type\":\"histogram2dcontour\",\"colorbar\":{\"outlinewidth\":0,\"ticks\":\"\"},\"colorscale\":[[0.0,\"#0d0887\"],[0.1111111111111111,\"#46039f\"],[0.2222222222222222,\"#7201a8\"],[0.3333333333333333,\"#9c179e\"],[0.4444444444444444,\"#bd3786\"],[0.5555555555555556,\"#d8576b\"],[0.6666666666666666,\"#ed7953\"],[0.7777777777777778,\"#fb9f3a\"],[0.8888888888888888,\"#fdca26\"],[1.0,\"#f0f921\"]]}],\"choropleth\":[{\"type\":\"choropleth\",\"colorbar\":{\"outlinewidth\":0,\"ticks\":\"\"}}],\"histogram2d\":[{\"type\":\"histogram2d\",\"colorbar\":{\"outlinewidth\":0,\"ticks\":\"\"},\"colorscale\":[[0.0,\"#0d0887\"],[0.1111111111111111,\"#46039f\"],[0.2222222222222222,\"#7201a8\"],[0.3333333333333333,\"#9c179e\"],[0.4444444444444444,\"#bd3786\"],[0.5555555555555556,\"#d8576b\"],[0.6666666666666666,\"#ed7953\"],[0.7777777777777778,\"#fb9f3a\"],[0.8888888888888888,\"#fdca26\"],[1.0,\"#f0f921\"]]}],\"heatmap\":[{\"type\":\"heatmap\",\"colorbar\":{\"outlinewidth\":0,\"ticks\":\"\"},\"colorscale\":[[0.0,\"#0d0887\"],[0.1111111111111111,\"#46039f\"],[0.2222222222222222,\"#7201a8\"],[0.3333333333333333,\"#9c179e\"],[0.4444444444444444,\"#bd3786\"],[0.5555555555555556,\"#d8576b\"],[0.6666666666666666,\"#ed7953\"],[0.7777777777777778,\"#fb9f3a\"],[0.8888888888888888,\"#fdca26\"],[1.0,\"#f0f921\"]]}],\"heatmapgl\":[{\"type\":\"heatmapgl\",\"colorbar\":{\"outlinewidth\":0,\"ticks\":\"\"},\"colorscale\":[[0.0,\"#0d0887\"],[0.1111111111111111,\"#46039f\"],[0.2222222222222222,\"#7201a8\"],[0.3333333333333333,\"#9c179e\"],[0.4444444444444444,\"#bd3786\"],[0.5555555555555556,\"#d8576b\"],[0.6666666666666666,\"#ed7953\"],[0.7777777777777778,\"#fb9f3a\"],[0.8888888888888888,\"#fdca26\"],[1.0,\"#f0f921\"]]}],\"contourcarpet\":[{\"type\":\"contourcarpet\",\"colorbar\":{\"outlinewidth\":0,\"ticks\":\"\"}}],\"contour\":[{\"type\":\"contour\",\"colorbar\":{\"outlinewidth\":0,\"ticks\":\"\"},\"colorscale\":[[0.0,\"#0d0887\"],[0.1111111111111111,\"#46039f\"],[0.2222222222222222,\"#7201a8\"],[0.3333333333333333,\"#9c179e\"],[0.4444444444444444,\"#bd3786\"],[0.5555555555555556,\"#d8576b\"],[0.6666666666666666,\"#ed7953\"],[0.7777777777777778,\"#fb9f3a\"],[0.8888888888888888,\"#fdca26\"],[1.0,\"#f0f921\"]]}],\"surface\":[{\"type\":\"surface\",\"colorbar\":{\"outlinewidth\":0,\"ticks\":\"\"},\"colorscale\":[[0.0,\"#0d0887\"],[0.1111111111111111,\"#46039f\"],[0.2222222222222222,\"#7201a8\"],[0.3333333333333333,\"#9c179e\"],[0.4444444444444444,\"#bd3786\"],[0.5555555555555556,\"#d8576b\"],[0.6666666666666666,\"#ed7953\"],[0.7777777777777778,\"#fb9f3a\"],[0.8888888888888888,\"#fdca26\"],[1.0,\"#f0f921\"]]}],\"mesh3d\":[{\"type\":\"mesh3d\",\"colorbar\":{\"outlinewidth\":0,\"ticks\":\"\"}}],\"scatter\":[{\"fillpattern\":{\"fillmode\":\"overlay\",\"size\":10,\"solidity\":0.2},\"type\":\"scatter\"}],\"parcoords\":[{\"type\":\"parcoords\",\"line\":{\"colorbar\":{\"outlinewidth\":0,\"ticks\":\"\"}}}],\"scatterpolargl\":[{\"type\":\"scatterpolargl\",\"marker\":{\"colorbar\":{\"outlinewidth\":0,\"ticks\":\"\"}}}],\"bar\":[{\"error_x\":{\"color\":\"#2a3f5f\"},\"error_y\":{\"color\":\"#2a3f5f\"},\"marker\":{\"line\":{\"color\":\"#E5ECF6\",\"width\":0.5},\"pattern\":{\"fillmode\":\"overlay\",\"size\":10,\"solidity\":0.2}},\"type\":\"bar\"}],\"scattergeo\":[{\"type\":\"scattergeo\",\"marker\":{\"colorbar\":{\"outlinewidth\":0,\"ticks\":\"\"}}}],\"scatterpolar\":[{\"type\":\"scatterpolar\",\"marker\":{\"colorbar\":{\"outlinewidth\":0,\"ticks\":\"\"}}}],\"histogram\":[{\"marker\":{\"pattern\":{\"fillmode\":\"overlay\",\"size\":10,\"solidity\":0.2}},\"type\":\"histogram\"}],\"scattergl\":[{\"type\":\"scattergl\",\"marker\":{\"colorbar\":{\"outlinewidth\":0,\"ticks\":\"\"}}}],\"scatter3d\":[{\"type\":\"scatter3d\",\"line\":{\"colorbar\":{\"outlinewidth\":0,\"ticks\":\"\"}},\"marker\":{\"colorbar\":{\"outlinewidth\":0,\"ticks\":\"\"}}}],\"scattermapbox\":[{\"type\":\"scattermapbox\",\"marker\":{\"colorbar\":{\"outlinewidth\":0,\"ticks\":\"\"}}}],\"scatterternary\":[{\"type\":\"scatterternary\",\"marker\":{\"colorbar\":{\"outlinewidth\":0,\"ticks\":\"\"}}}],\"scattercarpet\":[{\"type\":\"scattercarpet\",\"marker\":{\"colorbar\":{\"outlinewidth\":0,\"ticks\":\"\"}}}],\"carpet\":[{\"aaxis\":{\"endlinecolor\":\"#2a3f5f\",\"gridcolor\":\"white\",\"linecolor\":\"white\",\"minorgridcolor\":\"white\",\"startlinecolor\":\"#2a3f5f\"},\"baxis\":{\"endlinecolor\":\"#2a3f5f\",\"gridcolor\":\"white\",\"linecolor\":\"white\",\"minorgridcolor\":\"white\",\"startlinecolor\":\"#2a3f5f\"},\"type\":\"carpet\"}],\"table\":[{\"cells\":{\"fill\":{\"color\":\"#EBF0F8\"},\"line\":{\"color\":\"white\"}},\"header\":{\"fill\":{\"color\":\"#C8D4E3\"},\"line\":{\"color\":\"white\"}},\"type\":\"table\"}],\"barpolar\":[{\"marker\":{\"line\":{\"color\":\"#E5ECF6\",\"width\":0.5},\"pattern\":{\"fillmode\":\"overlay\",\"size\":10,\"solidity\":0.2}},\"type\":\"barpolar\"}],\"pie\":[{\"automargin\":true,\"type\":\"pie\"}]},\"layout\":{\"autotypenumbers\":\"strict\",\"colorway\":[\"#636efa\",\"#EF553B\",\"#00cc96\",\"#ab63fa\",\"#FFA15A\",\"#19d3f3\",\"#FF6692\",\"#B6E880\",\"#FF97FF\",\"#FECB52\"],\"font\":{\"color\":\"#2a3f5f\"},\"hovermode\":\"closest\",\"hoverlabel\":{\"align\":\"left\"},\"paper_bgcolor\":\"white\",\"plot_bgcolor\":\"#E5ECF6\",\"polar\":{\"bgcolor\":\"#E5ECF6\",\"angularaxis\":{\"gridcolor\":\"white\",\"linecolor\":\"white\",\"ticks\":\"\"},\"radialaxis\":{\"gridcolor\":\"white\",\"linecolor\":\"white\",\"ticks\":\"\"}},\"ternary\":{\"bgcolor\":\"#E5ECF6\",\"aaxis\":{\"gridcolor\":\"white\",\"linecolor\":\"white\",\"ticks\":\"\"},\"baxis\":{\"gridcolor\":\"white\",\"linecolor\":\"white\",\"ticks\":\"\"},\"caxis\":{\"gridcolor\":\"white\",\"linecolor\":\"white\",\"ticks\":\"\"}},\"coloraxis\":{\"colorbar\":{\"outlinewidth\":0,\"ticks\":\"\"}},\"colorscale\":{\"sequential\":[[0.0,\"#0d0887\"],[0.1111111111111111,\"#46039f\"],[0.2222222222222222,\"#7201a8\"],[0.3333333333333333,\"#9c179e\"],[0.4444444444444444,\"#bd3786\"],[0.5555555555555556,\"#d8576b\"],[0.6666666666666666,\"#ed7953\"],[0.7777777777777778,\"#fb9f3a\"],[0.8888888888888888,\"#fdca26\"],[1.0,\"#f0f921\"]],\"sequentialminus\":[[0.0,\"#0d0887\"],[0.1111111111111111,\"#46039f\"],[0.2222222222222222,\"#7201a8\"],[0.3333333333333333,\"#9c179e\"],[0.4444444444444444,\"#bd3786\"],[0.5555555555555556,\"#d8576b\"],[0.6666666666666666,\"#ed7953\"],[0.7777777777777778,\"#fb9f3a\"],[0.8888888888888888,\"#fdca26\"],[1.0,\"#f0f921\"]],\"diverging\":[[0,\"#8e0152\"],[0.1,\"#c51b7d\"],[0.2,\"#de77ae\"],[0.3,\"#f1b6da\"],[0.4,\"#fde0ef\"],[0.5,\"#f7f7f7\"],[0.6,\"#e6f5d0\"],[0.7,\"#b8e186\"],[0.8,\"#7fbc41\"],[0.9,\"#4d9221\"],[1,\"#276419\"]]},\"xaxis\":{\"gridcolor\":\"white\",\"linecolor\":\"white\",\"ticks\":\"\",\"title\":{\"standoff\":15},\"zerolinecolor\":\"white\",\"automargin\":true,\"zerolinewidth\":2},\"yaxis\":{\"gridcolor\":\"white\",\"linecolor\":\"white\",\"ticks\":\"\",\"title\":{\"standoff\":15},\"zerolinecolor\":\"white\",\"automargin\":true,\"zerolinewidth\":2},\"scene\":{\"xaxis\":{\"backgroundcolor\":\"#E5ECF6\",\"gridcolor\":\"white\",\"linecolor\":\"white\",\"showbackground\":true,\"ticks\":\"\",\"zerolinecolor\":\"white\",\"gridwidth\":2},\"yaxis\":{\"backgroundcolor\":\"#E5ECF6\",\"gridcolor\":\"white\",\"linecolor\":\"white\",\"showbackground\":true,\"ticks\":\"\",\"zerolinecolor\":\"white\",\"gridwidth\":2},\"zaxis\":{\"backgroundcolor\":\"#E5ECF6\",\"gridcolor\":\"white\",\"linecolor\":\"white\",\"showbackground\":true,\"ticks\":\"\",\"zerolinecolor\":\"white\",\"gridwidth\":2}},\"shapedefaults\":{\"line\":{\"color\":\"#2a3f5f\"}},\"annotationdefaults\":{\"arrowcolor\":\"#2a3f5f\",\"arrowhead\":0,\"arrowwidth\":1},\"geo\":{\"bgcolor\":\"white\",\"landcolor\":\"#E5ECF6\",\"subunitcolor\":\"white\",\"showland\":true,\"showlakes\":true,\"lakecolor\":\"white\"},\"title\":{\"x\":0.05},\"mapbox\":{\"style\":\"light\"}}},\"xaxis\":{\"anchor\":\"y\",\"domain\":[0.0,1.0],\"title\":{\"text\":\"seq_length\"}},\"yaxis\":{\"anchor\":\"x\",\"domain\":[0.0,1.0],\"title\":{\"text\":\"count\"}},\"legend\":{\"tracegroupgap\":0},\"title\":{\"text\":\"sequence length dist.\"},\"barmode\":\"relative\",\"height\":500,\"width\":1000},                        {\"responsive\": true}                    ).then(function(){\n",
              "                            \n",
              "var gd = document.getElementById('0a2a3740-d07b-4186-bd7e-77660b045401');\n",
              "var x = new MutationObserver(function (mutations, observer) {{\n",
              "        var display = window.getComputedStyle(gd).display;\n",
              "        if (!display || display === 'none') {{\n",
              "            console.log([gd, 'removed!']);\n",
              "            Plotly.purge(gd);\n",
              "            observer.disconnect();\n",
              "        }}\n",
              "}});\n",
              "\n",
              "// Listen for the removal of the full notebook cells\n",
              "var notebookContainer = gd.closest('#notebook-container');\n",
              "if (notebookContainer) {{\n",
              "    x.observe(notebookContainer, {childList: true});\n",
              "}}\n",
              "\n",
              "// Listen for the clearing of the current output cell\n",
              "var outputEl = gd.closest('.output');\n",
              "if (outputEl) {{\n",
              "    x.observe(outputEl, {childList: true});\n",
              "}}\n",
              "\n",
              "                        })                };                            </script>        </div>\n",
              "</body>\n",
              "</html>"
            ]
          },
          "metadata": {}
        }
      ]
    },
    {
      "cell_type": "markdown",
      "source": [
        "two distinct sequence length values. could be a good idea to split the dataset and see if it improves the performance."
      ],
      "metadata": {
        "id": "VeRKhLi6WWny"
      }
    },
    {
      "cell_type": "code",
      "source": [
        "public_df = test.query('seq_length == 107')\n",
        "private_df = test.query('seq_length == 130')"
      ],
      "metadata": {
        "id": "-3p1BdZMWWXg"
      },
      "execution_count": 15,
      "outputs": []
    },
    {
      "cell_type": "markdown",
      "source": [
        "## Preprocessing"
      ],
      "metadata": {
        "id": "1gRCEA7eWo9T"
      }
    },
    {
      "cell_type": "markdown",
      "source": [
        "dictionary with character to integer tokenization"
      ],
      "metadata": {
        "id": "SzkmHeXQWqi0"
      }
    },
    {
      "cell_type": "code",
      "source": [
        "token2int = {x: i for i,x in enumerate('().ACGUBEHIMSX')}\n",
        "token2int"
      ],
      "metadata": {
        "colab": {
          "base_uri": "https://localhost:8080/"
        },
        "id": "8abuysRwWI2H",
        "outputId": "ee26e6dd-a810-4e61-e64e-d70ef4c6ab2c"
      },
      "execution_count": 16,
      "outputs": [
        {
          "output_type": "execute_result",
          "data": {
            "text/plain": [
              "{'(': 0,\n",
              " ')': 1,\n",
              " '.': 2,\n",
              " 'A': 3,\n",
              " 'C': 4,\n",
              " 'G': 5,\n",
              " 'U': 6,\n",
              " 'B': 7,\n",
              " 'E': 8,\n",
              " 'H': 9,\n",
              " 'I': 10,\n",
              " 'M': 11,\n",
              " 'S': 12,\n",
              " 'X': 13}"
            ]
          },
          "metadata": {},
          "execution_count": 16
        }
      ]
    },
    {
      "cell_type": "markdown",
      "source": [
        "now build a function that converts a dataframe into a 3D array"
      ],
      "metadata": {
        "id": "KVu6SjGBXDho"
      }
    },
    {
      "cell_type": "code",
      "source": [
        "def dataframe3D(df):\n",
        "  return np.transpose(np.array(df.values.tolist()), (0,2,1))"
      ],
      "metadata": {
        "id": "Qv3Bl5baXDT8"
      },
      "execution_count": 17,
      "outputs": []
    },
    {
      "cell_type": "markdown",
      "source": [
        "function that uses dictionary to convert training features into integer arrays, then convert that into a 3D array"
      ],
      "metadata": {
        "id": "0olmohdIXTZI"
      }
    },
    {
      "cell_type": "code",
      "source": [
        "def dataframe_encoding(df, token2int, cols=['sequence','structure','predicted_loop_type']):\n",
        "\n",
        "  #tokenization of sequence, structure and predicted loop type\n",
        "\n",
        "  return dataframe3D(df[cols].applymap(lambda seq: [token2int[x] for x in seq]))"
      ],
      "metadata": {
        "id": "wIisQ5VQXCUZ"
      },
      "execution_count": 18,
      "outputs": []
    },
    {
      "cell_type": "code",
      "source": [
        "train_inputs = dataframe_encoding(train,token2int)\n",
        "\n",
        "train_labels = dataframe3D(train[target_cols])"
      ],
      "metadata": {
        "id": "Y3PSojodX90A"
      },
      "execution_count": 19,
      "outputs": []
    },
    {
      "cell_type": "markdown",
      "source": [
        "split test set into public and private catagories"
      ],
      "metadata": {
        "id": "fwga6yQNYij7"
      }
    },
    {
      "cell_type": "code",
      "source": [
        "public_inputs = dataframe_encoding(public_df, token2int)\n",
        "private_inputs = dataframe_encoding(private_df,token2int)"
      ],
      "metadata": {
        "id": "X6mCfbeRYXig"
      },
      "execution_count": 20,
      "outputs": []
    },
    {
      "cell_type": "markdown",
      "source": [
        "### build model"
      ],
      "metadata": {
        "id": "HEjqy1dAY2V9"
      }
    },
    {
      "cell_type": "code",
      "source": [
        "x_train, x_val, y_train, y_val = train_test_split(train_inputs, train_labels, test_size=0.1, random_state=42, stratify=train.SN_filter)"
      ],
      "metadata": {
        "id": "4R7Dkfw_YzjH"
      },
      "execution_count": 21,
      "outputs": []
    },
    {
      "cell_type": "markdown",
      "source": [
        "MC root mean squared error function"
      ],
      "metadata": {
        "id": "MLI9Qq8fZPTK"
      }
    },
    {
      "cell_type": "code",
      "source": [
        "def MCRMSE(y_true,y_pred):\n",
        "  colwise_mse = tf.reduce_mean(tf.square(y_true - y_pred), axis=1)\n",
        "  return tf.reduce_mean(tf.sqrt(colwise_mse), axis=1)"
      ],
      "metadata": {
        "id": "0rHtRDKbZMGo"
      },
      "execution_count": 22,
      "outputs": []
    },
    {
      "cell_type": "code",
      "source": [
        "def build_model(embed_size,\n",
        "                seq_len     =107,\n",
        "                pred_length =68,\n",
        "                dropout     = 0.5,\n",
        "                sp_dropout  =0.2,\n",
        "                embed_dim   =200,\n",
        "                hidden_dim  =256):\n",
        "  inputs = L.Input(shape=(seq_len, 3))\n",
        "  embed = L.Embedding(input_dim=embed_size, output_dim=embed_dim)(inputs)\n",
        "  reshape = tf.reshape(embed, shape=(-1,embed.shape[1], embed.shape[2]* embed.shape[3]))\n",
        "  hidden = L.SpatialDropout1D(sp_dropout)(reshape)\n",
        "\n",
        "  #three bi directional GRU layers\n",
        "\n",
        "  hidden= L.Bidirectional(L.GRU(\n",
        "    hidden_dim,\n",
        "    dropout              = dropout,\n",
        "    return_sequences    = True,\n",
        "    kernel_initializer  = 'orthogonal',))(hidden)\n",
        "\n",
        "  hidden= L.Bidirectional(L.GRU(\n",
        "    hidden_dim,\n",
        "    dropout              = dropout,\n",
        "    return_sequences    = True,\n",
        "    kernel_initializer  = 'orthogonal',))(hidden)\n",
        "\n",
        "  hidden= L.Bidirectional(L.GRU(\n",
        "    hidden_dim,\n",
        "    dropout              = dropout,\n",
        "    return_sequences    = True,\n",
        "    kernel_initializer  = 'orthogonal',))(hidden)\n",
        "\n",
        "  truncated = hidden[:,:pred_length]\n",
        "  out = L.Dense(5, activation='linear')(truncated)\n",
        "  model = tf.keras.Model(inputs = inputs, outputs = out)\n",
        "  model.compile(optimizer='Adam', loss=MCRMSE)\n",
        "  return model"
      ],
      "metadata": {
        "id": "SE4ot5p_ZpSe"
      },
      "execution_count": 23,
      "outputs": []
    },
    {
      "cell_type": "code",
      "source": [
        "model = build_model(embed_size=len(token2int))\n",
        "\n",
        "model.summary()"
      ],
      "metadata": {
        "colab": {
          "base_uri": "https://localhost:8080/"
        },
        "id": "7Iv_FNedcZA2",
        "outputId": "a1e459a4-ec2f-4a6b-e377-c9b0a25b1519"
      },
      "execution_count": 24,
      "outputs": [
        {
          "output_type": "stream",
          "name": "stdout",
          "text": [
            "Model: \"model\"\n",
            "_________________________________________________________________\n",
            " Layer (type)                Output Shape              Param #   \n",
            "=================================================================\n",
            " input_1 (InputLayer)        [(None, 107, 3)]          0         \n",
            "                                                                 \n",
            " embedding (Embedding)       (None, 107, 3, 200)       2800      \n",
            "                                                                 \n",
            " tf.reshape (TFOpLambda)     (None, 107, 600)          0         \n",
            "                                                                 \n",
            " spatial_dropout1d (Spatial  (None, 107, 600)          0         \n",
            " Dropout1D)                                                      \n",
            "                                                                 \n",
            " bidirectional (Bidirection  (None, 107, 512)          1317888   \n",
            " al)                                                             \n",
            "                                                                 \n",
            " bidirectional_1 (Bidirecti  (None, 107, 512)          1182720   \n",
            " onal)                                                           \n",
            "                                                                 \n",
            " bidirectional_2 (Bidirecti  (None, 107, 512)          1182720   \n",
            " onal)                                                           \n",
            "                                                                 \n",
            " tf.__operators__.getitem (  (None, 68, 512)           0         \n",
            " SlicingOpLambda)                                                \n",
            "                                                                 \n",
            " dense (Dense)               (None, 68, 5)             2565      \n",
            "                                                                 \n",
            "=================================================================\n",
            "Total params: 3688693 (14.07 MB)\n",
            "Trainable params: 3688693 (14.07 MB)\n",
            "Non-trainable params: 0 (0.00 Byte)\n",
            "_________________________________________________________________\n"
          ]
        }
      ]
    },
    {
      "cell_type": "code",
      "source": [
        "if Model_Train:\n",
        "  history=model.fit(\n",
        "      x_train,\n",
        "      y_train,\n",
        "      validation_data=(x_val,y_val),\n",
        "      batch_size=64,\n",
        "      epochs=40,\n",
        "      verbose=2,\n",
        "      callbacks=[tf.keras.callbacks.ReduceLROnPlateau(patience=5),\n",
        "                 tf.keras.callbacks.ModelCheckpoint('Model/model.h5')]\n",
        "  )"
      ],
      "metadata": {
        "colab": {
          "base_uri": "https://localhost:8080/"
        },
        "id": "NEgaprJEcjrX",
        "outputId": "330508b5-17ef-4430-9cc6-1aead7bc88cd"
      },
      "execution_count": 25,
      "outputs": [
        {
          "output_type": "stream",
          "name": "stdout",
          "text": [
            "Epoch 1/40\n",
            "30/30 - 21s - loss: 0.4579 - val_loss: 0.3915 - lr: 0.0010 - 21s/epoch - 684ms/step\n",
            "Epoch 2/40\n"
          ]
        },
        {
          "output_type": "stream",
          "name": "stderr",
          "text": [
            "/usr/local/lib/python3.10/dist-packages/keras/src/engine/training.py:3103: UserWarning:\n",
            "\n",
            "You are saving your model as an HDF5 file via `model.save()`. This file format is considered legacy. We recommend using instead the native Keras format, e.g. `model.save('my_model.keras')`.\n",
            "\n"
          ]
        },
        {
          "output_type": "stream",
          "name": "stdout",
          "text": [
            "30/30 - 2s - loss: 0.3861 - val_loss: 0.3671 - lr: 0.0010 - 2s/epoch - 81ms/step\n",
            "Epoch 3/40\n",
            "30/30 - 2s - loss: 0.3656 - val_loss: 0.3504 - lr: 0.0010 - 2s/epoch - 79ms/step\n",
            "Epoch 4/40\n",
            "30/30 - 2s - loss: 0.3490 - val_loss: 0.3394 - lr: 0.0010 - 2s/epoch - 80ms/step\n",
            "Epoch 5/40\n",
            "30/30 - 2s - loss: 0.3372 - val_loss: 0.3258 - lr: 0.0010 - 2s/epoch - 82ms/step\n",
            "Epoch 6/40\n",
            "30/30 - 3s - loss: 0.3302 - val_loss: 0.3194 - lr: 0.0010 - 3s/epoch - 85ms/step\n",
            "Epoch 7/40\n",
            "30/30 - 2s - loss: 0.3241 - val_loss: 0.3110 - lr: 0.0010 - 2s/epoch - 80ms/step\n",
            "Epoch 8/40\n",
            "30/30 - 3s - loss: 0.3159 - val_loss: 0.3026 - lr: 0.0010 - 3s/epoch - 83ms/step\n",
            "Epoch 9/40\n",
            "30/30 - 3s - loss: 0.3091 - val_loss: 0.2963 - lr: 0.0010 - 3s/epoch - 88ms/step\n",
            "Epoch 10/40\n",
            "30/30 - 3s - loss: 0.3041 - val_loss: 0.2878 - lr: 0.0010 - 3s/epoch - 89ms/step\n",
            "Epoch 11/40\n",
            "30/30 - 3s - loss: 0.2950 - val_loss: 0.2791 - lr: 0.0010 - 3s/epoch - 86ms/step\n",
            "Epoch 12/40\n",
            "30/30 - 2s - loss: 0.2886 - val_loss: 0.2743 - lr: 0.0010 - 2s/epoch - 83ms/step\n",
            "Epoch 13/40\n",
            "30/30 - 2s - loss: 0.2821 - val_loss: 0.2707 - lr: 0.0010 - 2s/epoch - 83ms/step\n",
            "Epoch 14/40\n",
            "30/30 - 2s - loss: 0.2758 - val_loss: 0.2609 - lr: 0.0010 - 2s/epoch - 82ms/step\n",
            "Epoch 15/40\n",
            "30/30 - 3s - loss: 0.2711 - val_loss: 0.2562 - lr: 0.0010 - 3s/epoch - 84ms/step\n",
            "Epoch 16/40\n",
            "30/30 - 3s - loss: 0.2646 - val_loss: 0.2500 - lr: 0.0010 - 3s/epoch - 88ms/step\n",
            "Epoch 17/40\n",
            "30/30 - 3s - loss: 0.2591 - val_loss: 0.2452 - lr: 0.0010 - 3s/epoch - 84ms/step\n",
            "Epoch 18/40\n",
            "30/30 - 2s - loss: 0.2553 - val_loss: 0.2440 - lr: 0.0010 - 2s/epoch - 83ms/step\n",
            "Epoch 19/40\n",
            "30/30 - 3s - loss: 0.2511 - val_loss: 0.2423 - lr: 0.0010 - 3s/epoch - 84ms/step\n",
            "Epoch 20/40\n",
            "30/30 - 3s - loss: 0.2512 - val_loss: 0.2400 - lr: 0.0010 - 3s/epoch - 85ms/step\n",
            "Epoch 21/40\n",
            "30/30 - 3s - loss: 0.2451 - val_loss: 0.2412 - lr: 0.0010 - 3s/epoch - 88ms/step\n",
            "Epoch 22/40\n",
            "30/30 - 3s - loss: 0.2426 - val_loss: 0.2380 - lr: 0.0010 - 3s/epoch - 85ms/step\n",
            "Epoch 23/40\n",
            "30/30 - 3s - loss: 0.2396 - val_loss: 0.2352 - lr: 0.0010 - 3s/epoch - 86ms/step\n",
            "Epoch 24/40\n",
            "30/30 - 3s - loss: 0.2377 - val_loss: 0.2323 - lr: 0.0010 - 3s/epoch - 85ms/step\n",
            "Epoch 25/40\n",
            "30/30 - 3s - loss: 0.2364 - val_loss: 0.2330 - lr: 0.0010 - 3s/epoch - 85ms/step\n",
            "Epoch 26/40\n",
            "30/30 - 3s - loss: 0.2335 - val_loss: 0.2334 - lr: 0.0010 - 3s/epoch - 89ms/step\n",
            "Epoch 27/40\n",
            "30/30 - 3s - loss: 0.2313 - val_loss: 0.2314 - lr: 0.0010 - 3s/epoch - 86ms/step\n",
            "Epoch 28/40\n",
            "30/30 - 3s - loss: 0.2287 - val_loss: 0.2286 - lr: 0.0010 - 3s/epoch - 88ms/step\n",
            "Epoch 29/40\n",
            "30/30 - 3s - loss: 0.2273 - val_loss: 0.2285 - lr: 0.0010 - 3s/epoch - 84ms/step\n",
            "Epoch 30/40\n",
            "30/30 - 2s - loss: 0.2242 - val_loss: 0.2292 - lr: 0.0010 - 2s/epoch - 83ms/step\n",
            "Epoch 31/40\n",
            "30/30 - 3s - loss: 0.2238 - val_loss: 0.2276 - lr: 0.0010 - 3s/epoch - 87ms/step\n",
            "Epoch 32/40\n",
            "30/30 - 3s - loss: 0.2220 - val_loss: 0.2252 - lr: 0.0010 - 3s/epoch - 85ms/step\n",
            "Epoch 33/40\n",
            "30/30 - 2s - loss: 0.2191 - val_loss: 0.2266 - lr: 0.0010 - 2s/epoch - 83ms/step\n",
            "Epoch 34/40\n",
            "30/30 - 3s - loss: 0.2182 - val_loss: 0.2237 - lr: 0.0010 - 3s/epoch - 83ms/step\n",
            "Epoch 35/40\n",
            "30/30 - 2s - loss: 0.2165 - val_loss: 0.2239 - lr: 0.0010 - 2s/epoch - 83ms/step\n",
            "Epoch 36/40\n",
            "30/30 - 3s - loss: 0.2142 - val_loss: 0.2239 - lr: 0.0010 - 3s/epoch - 87ms/step\n",
            "Epoch 37/40\n",
            "30/30 - 3s - loss: 0.2136 - val_loss: 0.2242 - lr: 0.0010 - 3s/epoch - 85ms/step\n",
            "Epoch 38/40\n",
            "30/30 - 2s - loss: 0.2113 - val_loss: 0.2240 - lr: 0.0010 - 2s/epoch - 83ms/step\n",
            "Epoch 39/40\n",
            "30/30 - 2s - loss: 0.2101 - val_loss: 0.2258 - lr: 0.0010 - 2s/epoch - 83ms/step\n",
            "Epoch 40/40\n",
            "30/30 - 3s - loss: 0.2049 - val_loss: 0.2183 - lr: 1.0000e-04 - 3s/epoch - 88ms/step\n"
          ]
        }
      ]
    },
    {
      "cell_type": "code",
      "source": [
        "if Model_Train:\n",
        "  fig=px.line(history.history,\n",
        "              y=['loss', 'val_loss'],\n",
        "              labels={'index': 'epoch', 'value': 'MCRMSE'},\n",
        "              title='History')\n",
        "  fig.show()"
      ],
      "metadata": {
        "colab": {
          "base_uri": "https://localhost:8080/",
          "height": 542
        },
        "id": "xm_mlv2WdvKY",
        "outputId": "f2b3661f-d835-4c19-8ba1-a8d87a57b363"
      },
      "execution_count": 26,
      "outputs": [
        {
          "output_type": "display_data",
          "data": {
            "text/html": [
              "<html>\n",
              "<head><meta charset=\"utf-8\" /></head>\n",
              "<body>\n",
              "    <div>            <script src=\"https://cdnjs.cloudflare.com/ajax/libs/mathjax/2.7.5/MathJax.js?config=TeX-AMS-MML_SVG\"></script><script type=\"text/javascript\">if (window.MathJax && window.MathJax.Hub && window.MathJax.Hub.Config) {window.MathJax.Hub.Config({SVG: {font: \"STIX-Web\"}});}</script>                <script type=\"text/javascript\">window.PlotlyConfig = {MathJaxConfig: 'local'};</script>\n",
              "        <script charset=\"utf-8\" src=\"https://cdn.plot.ly/plotly-2.24.1.min.js\"></script>                <div id=\"5b5b548c-d755-47ab-940d-18e016e214a8\" class=\"plotly-graph-div\" style=\"height:525px; width:100%;\"></div>            <script type=\"text/javascript\">                                    window.PLOTLYENV=window.PLOTLYENV || {};                                    if (document.getElementById(\"5b5b548c-d755-47ab-940d-18e016e214a8\")) {                    Plotly.newPlot(                        \"5b5b548c-d755-47ab-940d-18e016e214a8\",                        [{\"hovertemplate\":\"variable=loss\\u003cbr\\u003eepoch=%{x}\\u003cbr\\u003eMCRMSE=%{y}\\u003cextra\\u003e\\u003c\\u002fextra\\u003e\",\"legendgroup\":\"loss\",\"line\":{\"color\":\"#636efa\",\"dash\":\"solid\"},\"marker\":{\"symbol\":\"circle\"},\"mode\":\"lines\",\"name\":\"loss\",\"orientation\":\"v\",\"showlegend\":true,\"x\":[0,1,2,3,4,5,6,7,8,9,10,11,12,13,14,15,16,17,18,19,20,21,22,23,24,25,26,27,28,29,30,31,32,33,34,35,36,37,38,39],\"xaxis\":\"x\",\"y\":[0.45793625712394714,0.38613027334213257,0.3655739426612854,0.349009245634079,0.3372272551059723,0.3302137553691864,0.3241439759731293,0.31589728593826294,0.30913278460502625,0.30411428213119507,0.29497265815734863,0.2885727286338806,0.28210556507110596,0.27583903074264526,0.2710987329483032,0.26460322737693787,0.259113073348999,0.25525158643722534,0.25113531947135925,0.25120192766189575,0.2450646013021469,0.24263224005699158,0.23964428901672363,0.23770946264266968,0.23636867105960846,0.2335241436958313,0.2312953919172287,0.2286621779203415,0.227269247174263,0.224180206656456,0.22377994656562805,0.22203832864761353,0.21906054019927979,0.21821321547031403,0.21649020910263062,0.21420404314994812,0.21358339488506317,0.21126796305179596,0.21005737781524658,0.20486772060394287],\"yaxis\":\"y\",\"type\":\"scatter\"},{\"hovertemplate\":\"variable=val_loss\\u003cbr\\u003eepoch=%{x}\\u003cbr\\u003eMCRMSE=%{y}\\u003cextra\\u003e\\u003c\\u002fextra\\u003e\",\"legendgroup\":\"val_loss\",\"line\":{\"color\":\"#EF553B\",\"dash\":\"solid\"},\"marker\":{\"symbol\":\"circle\"},\"mode\":\"lines\",\"name\":\"val_loss\",\"orientation\":\"v\",\"showlegend\":true,\"x\":[0,1,2,3,4,5,6,7,8,9,10,11,12,13,14,15,16,17,18,19,20,21,22,23,24,25,26,27,28,29,30,31,32,33,34,35,36,37,38,39],\"xaxis\":\"x\",\"y\":[0.39153459668159485,0.3670504689216614,0.35040202736854553,0.3393932580947876,0.3258322477340698,0.3193913400173187,0.31098446249961853,0.30264511704444885,0.29630929231643677,0.28781017661094666,0.27906641364097595,0.27429360151290894,0.27068889141082764,0.26085883378982544,0.25617530941963196,0.24998986721038818,0.2451813966035843,0.24398842453956604,0.2423468381166458,0.2400028258562088,0.24118852615356445,0.23795360326766968,0.23516228795051575,0.2323135882616043,0.2329753190279007,0.23338615894317627,0.2313557267189026,0.2285628616809845,0.22847725450992584,0.22916069626808167,0.2276197224855423,0.22520263493061066,0.22656522691249847,0.22372475266456604,0.223878875374794,0.22386114299297333,0.2241598218679428,0.22400100529193878,0.22580040991306305,0.21825501322746277],\"yaxis\":\"y\",\"type\":\"scatter\"}],                        {\"template\":{\"data\":{\"histogram2dcontour\":[{\"type\":\"histogram2dcontour\",\"colorbar\":{\"outlinewidth\":0,\"ticks\":\"\"},\"colorscale\":[[0.0,\"#0d0887\"],[0.1111111111111111,\"#46039f\"],[0.2222222222222222,\"#7201a8\"],[0.3333333333333333,\"#9c179e\"],[0.4444444444444444,\"#bd3786\"],[0.5555555555555556,\"#d8576b\"],[0.6666666666666666,\"#ed7953\"],[0.7777777777777778,\"#fb9f3a\"],[0.8888888888888888,\"#fdca26\"],[1.0,\"#f0f921\"]]}],\"choropleth\":[{\"type\":\"choropleth\",\"colorbar\":{\"outlinewidth\":0,\"ticks\":\"\"}}],\"histogram2d\":[{\"type\":\"histogram2d\",\"colorbar\":{\"outlinewidth\":0,\"ticks\":\"\"},\"colorscale\":[[0.0,\"#0d0887\"],[0.1111111111111111,\"#46039f\"],[0.2222222222222222,\"#7201a8\"],[0.3333333333333333,\"#9c179e\"],[0.4444444444444444,\"#bd3786\"],[0.5555555555555556,\"#d8576b\"],[0.6666666666666666,\"#ed7953\"],[0.7777777777777778,\"#fb9f3a\"],[0.8888888888888888,\"#fdca26\"],[1.0,\"#f0f921\"]]}],\"heatmap\":[{\"type\":\"heatmap\",\"colorbar\":{\"outlinewidth\":0,\"ticks\":\"\"},\"colorscale\":[[0.0,\"#0d0887\"],[0.1111111111111111,\"#46039f\"],[0.2222222222222222,\"#7201a8\"],[0.3333333333333333,\"#9c179e\"],[0.4444444444444444,\"#bd3786\"],[0.5555555555555556,\"#d8576b\"],[0.6666666666666666,\"#ed7953\"],[0.7777777777777778,\"#fb9f3a\"],[0.8888888888888888,\"#fdca26\"],[1.0,\"#f0f921\"]]}],\"heatmapgl\":[{\"type\":\"heatmapgl\",\"colorbar\":{\"outlinewidth\":0,\"ticks\":\"\"},\"colorscale\":[[0.0,\"#0d0887\"],[0.1111111111111111,\"#46039f\"],[0.2222222222222222,\"#7201a8\"],[0.3333333333333333,\"#9c179e\"],[0.4444444444444444,\"#bd3786\"],[0.5555555555555556,\"#d8576b\"],[0.6666666666666666,\"#ed7953\"],[0.7777777777777778,\"#fb9f3a\"],[0.8888888888888888,\"#fdca26\"],[1.0,\"#f0f921\"]]}],\"contourcarpet\":[{\"type\":\"contourcarpet\",\"colorbar\":{\"outlinewidth\":0,\"ticks\":\"\"}}],\"contour\":[{\"type\":\"contour\",\"colorbar\":{\"outlinewidth\":0,\"ticks\":\"\"},\"colorscale\":[[0.0,\"#0d0887\"],[0.1111111111111111,\"#46039f\"],[0.2222222222222222,\"#7201a8\"],[0.3333333333333333,\"#9c179e\"],[0.4444444444444444,\"#bd3786\"],[0.5555555555555556,\"#d8576b\"],[0.6666666666666666,\"#ed7953\"],[0.7777777777777778,\"#fb9f3a\"],[0.8888888888888888,\"#fdca26\"],[1.0,\"#f0f921\"]]}],\"surface\":[{\"type\":\"surface\",\"colorbar\":{\"outlinewidth\":0,\"ticks\":\"\"},\"colorscale\":[[0.0,\"#0d0887\"],[0.1111111111111111,\"#46039f\"],[0.2222222222222222,\"#7201a8\"],[0.3333333333333333,\"#9c179e\"],[0.4444444444444444,\"#bd3786\"],[0.5555555555555556,\"#d8576b\"],[0.6666666666666666,\"#ed7953\"],[0.7777777777777778,\"#fb9f3a\"],[0.8888888888888888,\"#fdca26\"],[1.0,\"#f0f921\"]]}],\"mesh3d\":[{\"type\":\"mesh3d\",\"colorbar\":{\"outlinewidth\":0,\"ticks\":\"\"}}],\"scatter\":[{\"fillpattern\":{\"fillmode\":\"overlay\",\"size\":10,\"solidity\":0.2},\"type\":\"scatter\"}],\"parcoords\":[{\"type\":\"parcoords\",\"line\":{\"colorbar\":{\"outlinewidth\":0,\"ticks\":\"\"}}}],\"scatterpolargl\":[{\"type\":\"scatterpolargl\",\"marker\":{\"colorbar\":{\"outlinewidth\":0,\"ticks\":\"\"}}}],\"bar\":[{\"error_x\":{\"color\":\"#2a3f5f\"},\"error_y\":{\"color\":\"#2a3f5f\"},\"marker\":{\"line\":{\"color\":\"#E5ECF6\",\"width\":0.5},\"pattern\":{\"fillmode\":\"overlay\",\"size\":10,\"solidity\":0.2}},\"type\":\"bar\"}],\"scattergeo\":[{\"type\":\"scattergeo\",\"marker\":{\"colorbar\":{\"outlinewidth\":0,\"ticks\":\"\"}}}],\"scatterpolar\":[{\"type\":\"scatterpolar\",\"marker\":{\"colorbar\":{\"outlinewidth\":0,\"ticks\":\"\"}}}],\"histogram\":[{\"marker\":{\"pattern\":{\"fillmode\":\"overlay\",\"size\":10,\"solidity\":0.2}},\"type\":\"histogram\"}],\"scattergl\":[{\"type\":\"scattergl\",\"marker\":{\"colorbar\":{\"outlinewidth\":0,\"ticks\":\"\"}}}],\"scatter3d\":[{\"type\":\"scatter3d\",\"line\":{\"colorbar\":{\"outlinewidth\":0,\"ticks\":\"\"}},\"marker\":{\"colorbar\":{\"outlinewidth\":0,\"ticks\":\"\"}}}],\"scattermapbox\":[{\"type\":\"scattermapbox\",\"marker\":{\"colorbar\":{\"outlinewidth\":0,\"ticks\":\"\"}}}],\"scatterternary\":[{\"type\":\"scatterternary\",\"marker\":{\"colorbar\":{\"outlinewidth\":0,\"ticks\":\"\"}}}],\"scattercarpet\":[{\"type\":\"scattercarpet\",\"marker\":{\"colorbar\":{\"outlinewidth\":0,\"ticks\":\"\"}}}],\"carpet\":[{\"aaxis\":{\"endlinecolor\":\"#2a3f5f\",\"gridcolor\":\"white\",\"linecolor\":\"white\",\"minorgridcolor\":\"white\",\"startlinecolor\":\"#2a3f5f\"},\"baxis\":{\"endlinecolor\":\"#2a3f5f\",\"gridcolor\":\"white\",\"linecolor\":\"white\",\"minorgridcolor\":\"white\",\"startlinecolor\":\"#2a3f5f\"},\"type\":\"carpet\"}],\"table\":[{\"cells\":{\"fill\":{\"color\":\"#EBF0F8\"},\"line\":{\"color\":\"white\"}},\"header\":{\"fill\":{\"color\":\"#C8D4E3\"},\"line\":{\"color\":\"white\"}},\"type\":\"table\"}],\"barpolar\":[{\"marker\":{\"line\":{\"color\":\"#E5ECF6\",\"width\":0.5},\"pattern\":{\"fillmode\":\"overlay\",\"size\":10,\"solidity\":0.2}},\"type\":\"barpolar\"}],\"pie\":[{\"automargin\":true,\"type\":\"pie\"}]},\"layout\":{\"autotypenumbers\":\"strict\",\"colorway\":[\"#636efa\",\"#EF553B\",\"#00cc96\",\"#ab63fa\",\"#FFA15A\",\"#19d3f3\",\"#FF6692\",\"#B6E880\",\"#FF97FF\",\"#FECB52\"],\"font\":{\"color\":\"#2a3f5f\"},\"hovermode\":\"closest\",\"hoverlabel\":{\"align\":\"left\"},\"paper_bgcolor\":\"white\",\"plot_bgcolor\":\"#E5ECF6\",\"polar\":{\"bgcolor\":\"#E5ECF6\",\"angularaxis\":{\"gridcolor\":\"white\",\"linecolor\":\"white\",\"ticks\":\"\"},\"radialaxis\":{\"gridcolor\":\"white\",\"linecolor\":\"white\",\"ticks\":\"\"}},\"ternary\":{\"bgcolor\":\"#E5ECF6\",\"aaxis\":{\"gridcolor\":\"white\",\"linecolor\":\"white\",\"ticks\":\"\"},\"baxis\":{\"gridcolor\":\"white\",\"linecolor\":\"white\",\"ticks\":\"\"},\"caxis\":{\"gridcolor\":\"white\",\"linecolor\":\"white\",\"ticks\":\"\"}},\"coloraxis\":{\"colorbar\":{\"outlinewidth\":0,\"ticks\":\"\"}},\"colorscale\":{\"sequential\":[[0.0,\"#0d0887\"],[0.1111111111111111,\"#46039f\"],[0.2222222222222222,\"#7201a8\"],[0.3333333333333333,\"#9c179e\"],[0.4444444444444444,\"#bd3786\"],[0.5555555555555556,\"#d8576b\"],[0.6666666666666666,\"#ed7953\"],[0.7777777777777778,\"#fb9f3a\"],[0.8888888888888888,\"#fdca26\"],[1.0,\"#f0f921\"]],\"sequentialminus\":[[0.0,\"#0d0887\"],[0.1111111111111111,\"#46039f\"],[0.2222222222222222,\"#7201a8\"],[0.3333333333333333,\"#9c179e\"],[0.4444444444444444,\"#bd3786\"],[0.5555555555555556,\"#d8576b\"],[0.6666666666666666,\"#ed7953\"],[0.7777777777777778,\"#fb9f3a\"],[0.8888888888888888,\"#fdca26\"],[1.0,\"#f0f921\"]],\"diverging\":[[0,\"#8e0152\"],[0.1,\"#c51b7d\"],[0.2,\"#de77ae\"],[0.3,\"#f1b6da\"],[0.4,\"#fde0ef\"],[0.5,\"#f7f7f7\"],[0.6,\"#e6f5d0\"],[0.7,\"#b8e186\"],[0.8,\"#7fbc41\"],[0.9,\"#4d9221\"],[1,\"#276419\"]]},\"xaxis\":{\"gridcolor\":\"white\",\"linecolor\":\"white\",\"ticks\":\"\",\"title\":{\"standoff\":15},\"zerolinecolor\":\"white\",\"automargin\":true,\"zerolinewidth\":2},\"yaxis\":{\"gridcolor\":\"white\",\"linecolor\":\"white\",\"ticks\":\"\",\"title\":{\"standoff\":15},\"zerolinecolor\":\"white\",\"automargin\":true,\"zerolinewidth\":2},\"scene\":{\"xaxis\":{\"backgroundcolor\":\"#E5ECF6\",\"gridcolor\":\"white\",\"linecolor\":\"white\",\"showbackground\":true,\"ticks\":\"\",\"zerolinecolor\":\"white\",\"gridwidth\":2},\"yaxis\":{\"backgroundcolor\":\"#E5ECF6\",\"gridcolor\":\"white\",\"linecolor\":\"white\",\"showbackground\":true,\"ticks\":\"\",\"zerolinecolor\":\"white\",\"gridwidth\":2},\"zaxis\":{\"backgroundcolor\":\"#E5ECF6\",\"gridcolor\":\"white\",\"linecolor\":\"white\",\"showbackground\":true,\"ticks\":\"\",\"zerolinecolor\":\"white\",\"gridwidth\":2}},\"shapedefaults\":{\"line\":{\"color\":\"#2a3f5f\"}},\"annotationdefaults\":{\"arrowcolor\":\"#2a3f5f\",\"arrowhead\":0,\"arrowwidth\":1},\"geo\":{\"bgcolor\":\"white\",\"landcolor\":\"#E5ECF6\",\"subunitcolor\":\"white\",\"showland\":true,\"showlakes\":true,\"lakecolor\":\"white\"},\"title\":{\"x\":0.05},\"mapbox\":{\"style\":\"light\"}}},\"xaxis\":{\"anchor\":\"y\",\"domain\":[0.0,1.0],\"title\":{\"text\":\"epoch\"}},\"yaxis\":{\"anchor\":\"x\",\"domain\":[0.0,1.0],\"title\":{\"text\":\"MCRMSE\"}},\"legend\":{\"title\":{\"text\":\"variable\"},\"tracegroupgap\":0},\"title\":{\"text\":\"History\"}},                        {\"responsive\": true}                    ).then(function(){\n",
              "                            \n",
              "var gd = document.getElementById('5b5b548c-d755-47ab-940d-18e016e214a8');\n",
              "var x = new MutationObserver(function (mutations, observer) {{\n",
              "        var display = window.getComputedStyle(gd).display;\n",
              "        if (!display || display === 'none') {{\n",
              "            console.log([gd, 'removed!']);\n",
              "            Plotly.purge(gd);\n",
              "            observer.disconnect();\n",
              "        }}\n",
              "}});\n",
              "\n",
              "// Listen for the removal of the full notebook cells\n",
              "var notebookContainer = gd.closest('#notebook-container');\n",
              "if (notebookContainer) {{\n",
              "    x.observe(notebookContainer, {childList: true});\n",
              "}}\n",
              "\n",
              "// Listen for the clearing of the current output cell\n",
              "var outputEl = gd.closest('.output');\n",
              "if (outputEl) {{\n",
              "    x.observe(outputEl, {childList: true});\n",
              "}}\n",
              "\n",
              "                        })                };                            </script>        </div>\n",
              "</body>\n",
              "</html>"
            ]
          },
          "metadata": {}
        }
      ]
    },
    {
      "cell_type": "code",
      "source": [
        "model_public = build_model(seq_len=107,\n",
        "                           pred_length=107,\n",
        "                           embed_size=len(token2int))\n",
        "model_private = build_model(seq_len=130,\n",
        "                           pred_length=130,\n",
        "                           embed_size=len(token2int))\n",
        "\n",
        "model_public.load_weights('Model/model.h5')\n",
        "model_private.load_weights('Model/model.h5')"
      ],
      "metadata": {
        "id": "rHeWuoncfYAk"
      },
      "execution_count": 28,
      "outputs": []
    },
    {
      "cell_type": "code",
      "source": [
        "public_preds = model_public.predict(public_inputs)\n",
        "private_preds = model_private.predict(private_inputs)\n",
        "\n",
        "private_preds.shape"
      ],
      "metadata": {
        "colab": {
          "base_uri": "https://localhost:8080/"
        },
        "id": "RNiW2_M5gOD_",
        "outputId": "0cb89fdc-962c-43ec-f132-1d972358f2e4"
      },
      "execution_count": 29,
      "outputs": [
        {
          "output_type": "stream",
          "name": "stdout",
          "text": [
            "20/20 [==============================] - 3s 28ms/step\n",
            "94/94 [==============================] - 4s 24ms/step\n"
          ]
        },
        {
          "output_type": "execute_result",
          "data": {
            "text/plain": [
              "(3005, 130, 5)"
            ]
          },
          "metadata": {},
          "execution_count": 29
        }
      ]
    },
    {
      "cell_type": "code",
      "source": [
        "preds_ls =[]\n",
        "\n",
        "for df, preds in [(public_df, public_preds),(private_df, private_preds)]:\n",
        "  for i, uid in enumerate(df.id):\n",
        "    single_pred = preds[i]\n",
        "    single_df = pd.DataFrame(single_pred, columns=target_cols)\n",
        "    single_df['id_seqpos'] = [f'{uid}_{x}' for x in range(single_df.shape[0])]\n",
        "    preds_ls.append(single_df)\n",
        "\n",
        "preds_df = pd.concat(preds_ls)"
      ],
      "metadata": {
        "id": "w2gqJf9TgmU3"
      },
      "execution_count": 30,
      "outputs": []
    },
    {
      "cell_type": "code",
      "source": [
        "preds_df.head(5)"
      ],
      "metadata": {
        "colab": {
          "base_uri": "https://localhost:8080/",
          "height": 204
        },
        "id": "swdHLYRkhTSh",
        "outputId": "0bf95832-9b50-4459-ebcf-e780de28ca4b"
      },
      "execution_count": 31,
      "outputs": [
        {
          "output_type": "execute_result",
          "data": {
            "text/plain": [
              "   reactivity  deg_Mg_pH10  deg_Mg_50C  deg_pH10   deg_50C       id_seqpos\n",
              "0    0.590815     0.601068    0.531644  1.935872  0.798182  id_00073f8be_0\n",
              "1    2.057342     3.107803    3.324284  4.364848  2.925877  id_00073f8be_1\n",
              "2    1.465390     0.584802    0.581927  0.577345  0.710409  id_00073f8be_2\n",
              "3    1.274872     1.353190    1.856409  1.230263  1.788942  id_00073f8be_3\n",
              "4    0.883626     0.585739    0.852780  0.510890  0.907797  id_00073f8be_4"
            ],
            "text/html": [
              "\n",
              "  <div id=\"df-1e95d000-62ce-419c-ac6b-95d78a508f7e\" class=\"colab-df-container\">\n",
              "    <div>\n",
              "<style scoped>\n",
              "    .dataframe tbody tr th:only-of-type {\n",
              "        vertical-align: middle;\n",
              "    }\n",
              "\n",
              "    .dataframe tbody tr th {\n",
              "        vertical-align: top;\n",
              "    }\n",
              "\n",
              "    .dataframe thead th {\n",
              "        text-align: right;\n",
              "    }\n",
              "</style>\n",
              "<table border=\"1\" class=\"dataframe\">\n",
              "  <thead>\n",
              "    <tr style=\"text-align: right;\">\n",
              "      <th></th>\n",
              "      <th>reactivity</th>\n",
              "      <th>deg_Mg_pH10</th>\n",
              "      <th>deg_Mg_50C</th>\n",
              "      <th>deg_pH10</th>\n",
              "      <th>deg_50C</th>\n",
              "      <th>id_seqpos</th>\n",
              "    </tr>\n",
              "  </thead>\n",
              "  <tbody>\n",
              "    <tr>\n",
              "      <th>0</th>\n",
              "      <td>0.590815</td>\n",
              "      <td>0.601068</td>\n",
              "      <td>0.531644</td>\n",
              "      <td>1.935872</td>\n",
              "      <td>0.798182</td>\n",
              "      <td>id_00073f8be_0</td>\n",
              "    </tr>\n",
              "    <tr>\n",
              "      <th>1</th>\n",
              "      <td>2.057342</td>\n",
              "      <td>3.107803</td>\n",
              "      <td>3.324284</td>\n",
              "      <td>4.364848</td>\n",
              "      <td>2.925877</td>\n",
              "      <td>id_00073f8be_1</td>\n",
              "    </tr>\n",
              "    <tr>\n",
              "      <th>2</th>\n",
              "      <td>1.465390</td>\n",
              "      <td>0.584802</td>\n",
              "      <td>0.581927</td>\n",
              "      <td>0.577345</td>\n",
              "      <td>0.710409</td>\n",
              "      <td>id_00073f8be_2</td>\n",
              "    </tr>\n",
              "    <tr>\n",
              "      <th>3</th>\n",
              "      <td>1.274872</td>\n",
              "      <td>1.353190</td>\n",
              "      <td>1.856409</td>\n",
              "      <td>1.230263</td>\n",
              "      <td>1.788942</td>\n",
              "      <td>id_00073f8be_3</td>\n",
              "    </tr>\n",
              "    <tr>\n",
              "      <th>4</th>\n",
              "      <td>0.883626</td>\n",
              "      <td>0.585739</td>\n",
              "      <td>0.852780</td>\n",
              "      <td>0.510890</td>\n",
              "      <td>0.907797</td>\n",
              "      <td>id_00073f8be_4</td>\n",
              "    </tr>\n",
              "  </tbody>\n",
              "</table>\n",
              "</div>\n",
              "    <div class=\"colab-df-buttons\">\n",
              "\n",
              "  <div class=\"colab-df-container\">\n",
              "    <button class=\"colab-df-convert\" onclick=\"convertToInteractive('df-1e95d000-62ce-419c-ac6b-95d78a508f7e')\"\n",
              "            title=\"Convert this dataframe to an interactive table.\"\n",
              "            style=\"display:none;\">\n",
              "\n",
              "  <svg xmlns=\"http://www.w3.org/2000/svg\" height=\"24px\" viewBox=\"0 -960 960 960\">\n",
              "    <path d=\"M120-120v-720h720v720H120Zm60-500h600v-160H180v160Zm220 220h160v-160H400v160Zm0 220h160v-160H400v160ZM180-400h160v-160H180v160Zm440 0h160v-160H620v160ZM180-180h160v-160H180v160Zm440 0h160v-160H620v160Z\"/>\n",
              "  </svg>\n",
              "    </button>\n",
              "\n",
              "  <style>\n",
              "    .colab-df-container {\n",
              "      display:flex;\n",
              "      gap: 12px;\n",
              "    }\n",
              "\n",
              "    .colab-df-convert {\n",
              "      background-color: #E8F0FE;\n",
              "      border: none;\n",
              "      border-radius: 50%;\n",
              "      cursor: pointer;\n",
              "      display: none;\n",
              "      fill: #1967D2;\n",
              "      height: 32px;\n",
              "      padding: 0 0 0 0;\n",
              "      width: 32px;\n",
              "    }\n",
              "\n",
              "    .colab-df-convert:hover {\n",
              "      background-color: #E2EBFA;\n",
              "      box-shadow: 0px 1px 2px rgba(60, 64, 67, 0.3), 0px 1px 3px 1px rgba(60, 64, 67, 0.15);\n",
              "      fill: #174EA6;\n",
              "    }\n",
              "\n",
              "    .colab-df-buttons div {\n",
              "      margin-bottom: 4px;\n",
              "    }\n",
              "\n",
              "    [theme=dark] .colab-df-convert {\n",
              "      background-color: #3B4455;\n",
              "      fill: #D2E3FC;\n",
              "    }\n",
              "\n",
              "    [theme=dark] .colab-df-convert:hover {\n",
              "      background-color: #434B5C;\n",
              "      box-shadow: 0px 1px 3px 1px rgba(0, 0, 0, 0.15);\n",
              "      filter: drop-shadow(0px 1px 2px rgba(0, 0, 0, 0.3));\n",
              "      fill: #FFFFFF;\n",
              "    }\n",
              "  </style>\n",
              "\n",
              "    <script>\n",
              "      const buttonEl =\n",
              "        document.querySelector('#df-1e95d000-62ce-419c-ac6b-95d78a508f7e button.colab-df-convert');\n",
              "      buttonEl.style.display =\n",
              "        google.colab.kernel.accessAllowed ? 'block' : 'none';\n",
              "\n",
              "      async function convertToInteractive(key) {\n",
              "        const element = document.querySelector('#df-1e95d000-62ce-419c-ac6b-95d78a508f7e');\n",
              "        const dataTable =\n",
              "          await google.colab.kernel.invokeFunction('convertToInteractive',\n",
              "                                                    [key], {});\n",
              "        if (!dataTable) return;\n",
              "\n",
              "        const docLinkHtml = 'Like what you see? Visit the ' +\n",
              "          '<a target=\"_blank\" href=https://colab.research.google.com/notebooks/data_table.ipynb>data table notebook</a>'\n",
              "          + ' to learn more about interactive tables.';\n",
              "        element.innerHTML = '';\n",
              "        dataTable['output_type'] = 'display_data';\n",
              "        await google.colab.output.renderOutput(dataTable, element);\n",
              "        const docLink = document.createElement('div');\n",
              "        docLink.innerHTML = docLinkHtml;\n",
              "        element.appendChild(docLink);\n",
              "      }\n",
              "    </script>\n",
              "  </div>\n",
              "\n",
              "\n",
              "<div id=\"df-ebeae9e6-a39a-4bb9-8cae-1c9ce57b26c7\">\n",
              "  <button class=\"colab-df-quickchart\" onclick=\"quickchart('df-ebeae9e6-a39a-4bb9-8cae-1c9ce57b26c7')\"\n",
              "            title=\"Suggest charts\"\n",
              "            style=\"display:none;\">\n",
              "\n",
              "<svg xmlns=\"http://www.w3.org/2000/svg\" height=\"24px\"viewBox=\"0 0 24 24\"\n",
              "     width=\"24px\">\n",
              "    <g>\n",
              "        <path d=\"M19 3H5c-1.1 0-2 .9-2 2v14c0 1.1.9 2 2 2h14c1.1 0 2-.9 2-2V5c0-1.1-.9-2-2-2zM9 17H7v-7h2v7zm4 0h-2V7h2v10zm4 0h-2v-4h2v4z\"/>\n",
              "    </g>\n",
              "</svg>\n",
              "  </button>\n",
              "\n",
              "<style>\n",
              "  .colab-df-quickchart {\n",
              "      --bg-color: #E8F0FE;\n",
              "      --fill-color: #1967D2;\n",
              "      --hover-bg-color: #E2EBFA;\n",
              "      --hover-fill-color: #174EA6;\n",
              "      --disabled-fill-color: #AAA;\n",
              "      --disabled-bg-color: #DDD;\n",
              "  }\n",
              "\n",
              "  [theme=dark] .colab-df-quickchart {\n",
              "      --bg-color: #3B4455;\n",
              "      --fill-color: #D2E3FC;\n",
              "      --hover-bg-color: #434B5C;\n",
              "      --hover-fill-color: #FFFFFF;\n",
              "      --disabled-bg-color: #3B4455;\n",
              "      --disabled-fill-color: #666;\n",
              "  }\n",
              "\n",
              "  .colab-df-quickchart {\n",
              "    background-color: var(--bg-color);\n",
              "    border: none;\n",
              "    border-radius: 50%;\n",
              "    cursor: pointer;\n",
              "    display: none;\n",
              "    fill: var(--fill-color);\n",
              "    height: 32px;\n",
              "    padding: 0;\n",
              "    width: 32px;\n",
              "  }\n",
              "\n",
              "  .colab-df-quickchart:hover {\n",
              "    background-color: var(--hover-bg-color);\n",
              "    box-shadow: 0 1px 2px rgba(60, 64, 67, 0.3), 0 1px 3px 1px rgba(60, 64, 67, 0.15);\n",
              "    fill: var(--button-hover-fill-color);\n",
              "  }\n",
              "\n",
              "  .colab-df-quickchart-complete:disabled,\n",
              "  .colab-df-quickchart-complete:disabled:hover {\n",
              "    background-color: var(--disabled-bg-color);\n",
              "    fill: var(--disabled-fill-color);\n",
              "    box-shadow: none;\n",
              "  }\n",
              "\n",
              "  .colab-df-spinner {\n",
              "    border: 2px solid var(--fill-color);\n",
              "    border-color: transparent;\n",
              "    border-bottom-color: var(--fill-color);\n",
              "    animation:\n",
              "      spin 1s steps(1) infinite;\n",
              "  }\n",
              "\n",
              "  @keyframes spin {\n",
              "    0% {\n",
              "      border-color: transparent;\n",
              "      border-bottom-color: var(--fill-color);\n",
              "      border-left-color: var(--fill-color);\n",
              "    }\n",
              "    20% {\n",
              "      border-color: transparent;\n",
              "      border-left-color: var(--fill-color);\n",
              "      border-top-color: var(--fill-color);\n",
              "    }\n",
              "    30% {\n",
              "      border-color: transparent;\n",
              "      border-left-color: var(--fill-color);\n",
              "      border-top-color: var(--fill-color);\n",
              "      border-right-color: var(--fill-color);\n",
              "    }\n",
              "    40% {\n",
              "      border-color: transparent;\n",
              "      border-right-color: var(--fill-color);\n",
              "      border-top-color: var(--fill-color);\n",
              "    }\n",
              "    60% {\n",
              "      border-color: transparent;\n",
              "      border-right-color: var(--fill-color);\n",
              "    }\n",
              "    80% {\n",
              "      border-color: transparent;\n",
              "      border-right-color: var(--fill-color);\n",
              "      border-bottom-color: var(--fill-color);\n",
              "    }\n",
              "    90% {\n",
              "      border-color: transparent;\n",
              "      border-bottom-color: var(--fill-color);\n",
              "    }\n",
              "  }\n",
              "</style>\n",
              "\n",
              "  <script>\n",
              "    async function quickchart(key) {\n",
              "      const quickchartButtonEl =\n",
              "        document.querySelector('#' + key + ' button');\n",
              "      quickchartButtonEl.disabled = true;  // To prevent multiple clicks.\n",
              "      quickchartButtonEl.classList.add('colab-df-spinner');\n",
              "      try {\n",
              "        const charts = await google.colab.kernel.invokeFunction(\n",
              "            'suggestCharts', [key], {});\n",
              "      } catch (error) {\n",
              "        console.error('Error during call to suggestCharts:', error);\n",
              "      }\n",
              "      quickchartButtonEl.classList.remove('colab-df-spinner');\n",
              "      quickchartButtonEl.classList.add('colab-df-quickchart-complete');\n",
              "    }\n",
              "    (() => {\n",
              "      let quickchartButtonEl =\n",
              "        document.querySelector('#df-ebeae9e6-a39a-4bb9-8cae-1c9ce57b26c7 button');\n",
              "      quickchartButtonEl.style.display =\n",
              "        google.colab.kernel.accessAllowed ? 'block' : 'none';\n",
              "    })();\n",
              "  </script>\n",
              "</div>\n",
              "    </div>\n",
              "  </div>\n"
            ]
          },
          "metadata": {},
          "execution_count": 31
        }
      ]
    },
    {
      "cell_type": "code",
      "source": [],
      "metadata": {
        "id": "_7VQGZhohVmJ"
      },
      "execution_count": null,
      "outputs": []
    }
  ]
}